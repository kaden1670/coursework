{
  "cells": [
    {
      "cell_type": "markdown",
      "metadata": {
        "id": "8X47Vkm0iOEq"
      },
      "source": [
        "#  <center> Problem Set 3 <center>\n",
        "<center> Spring 2022 <center>\n",
        "<center> 3.C01/3.C51, 10.C01/10.C51, 20.C01/20.C51 <center>\n",
        "<center> Due: Thursday, March 17 at 10 PM ET <center>"
      ]
    },
    {
      "cell_type": "markdown",
      "metadata": {
        "id": "jJaYRUjViOEs"
      },
      "source": [
        "<b>Name: Kaden DiMarco</b>\n",
        "\n",
        "<b>Kerberos id: 923638043</b>"
      ]
    },
    {
      "cell_type": "code",
      "execution_count": null,
      "metadata": {
        "id": "VbrFq17liOEt"
      },
      "outputs": [],
      "source": [
        "import matplotlib.pyplot as plt\n",
        "from torch.utils.data import Dataset, DataLoader\n",
        "import pandas as pd\n",
        "import numpy as np\n",
        "import matplotlib\n",
        "import torch\n",
        "from torch import nn\n",
        "from torch.nn import functional as F\n",
        "import sklearn\n",
        "from sklearn.model_selection import train_test_split\n",
        "from sklearn.metrics import roc_auc_score\n",
        "from sklearn.decomposition import PCA\n",
        "from sklearn.manifold import TSNE\n",
        "from sklearn.model_selection import KFold\n",
        "from sklearn.ensemble import RandomForestClassifier\n",
        "\n",
        "from sklearn.preprocessing import LabelEncoder\n",
        "from sklearn.preprocessing import OneHotEncoder\n",
        "\n",
        "matplotlib.rcParams.update({'font.size': 15})\n",
        "matplotlib.rc('lines', linewidth=3, color='g')\n",
        "matplotlib.rcParams['axes.linewidth'] = 2.0\n",
        "matplotlib.rcParams['axes.linewidth'] = 2.0\n",
        "matplotlib.rcParams[\"xtick.major.size\"] = 6\n",
        "matplotlib.rcParams[\"ytick.major.size\"] = 6\n",
        "matplotlib.rcParams[\"ytick.major.width\"] = 2\n",
        "matplotlib.rcParams[\"xtick.major.width\"] = 2\n",
        "matplotlib.rcParams['text.usetex'] = False"
      ]
    },
    {
      "cell_type": "markdown",
      "metadata": {
        "id": "4wmwy866iOEu"
      },
      "source": [
        "## <center>Problem 1: Predicting DNA Binding Sites</center>"
      ]
    },
    {
      "cell_type": "code",
      "execution_count": null,
      "metadata": {
        "colab": {
          "base_uri": "https://localhost:8080/"
        },
        "id": "WNbP_BpliOEv",
        "outputId": "5a8b3561-276e-4c2e-869c-6b6f17770a9e"
      },
      "outputs": [
        {
          "output_type": "stream",
          "name": "stdout",
          "text": [
            "--2022-03-16 02:49:43--  https://raw.githubusercontent.com/vikram-sundar/ML4MolEng_Spring2022/master/psets/ps3/data/train_dna.csv\n",
            "Resolving raw.githubusercontent.com (raw.githubusercontent.com)... 185.199.111.133, 185.199.109.133, 185.199.108.133, ...\n",
            "Connecting to raw.githubusercontent.com (raw.githubusercontent.com)|185.199.111.133|:443... connected.\n",
            "HTTP request sent, awaiting response... 200 OK\n",
            "Length: 1408340 (1.3M) [text/plain]\n",
            "Saving to: ‘train_dna.csv’\n",
            "\n",
            "train_dna.csv       100%[===================>]   1.34M  --.-KB/s    in 0.1s    \n",
            "\n",
            "2022-03-16 02:49:43 (13.2 MB/s) - ‘train_dna.csv’ saved [1408340/1408340]\n",
            "\n"
          ]
        }
      ],
      "source": [
        "# Download data \n",
        "! wget https://raw.githubusercontent.com/vikram-sundar/ML4MolEng_Spring2022/master/psets/ps3/data/train_dna.csv"
      ]
    },
    {
      "cell_type": "code",
      "execution_count": null,
      "metadata": {
        "id": "Divy7BpAiOEv"
      },
      "outputs": [],
      "source": [
        "train_pd = pd.read_csv(\"./train_dna.csv\")\n",
        "\n",
        "X = train_pd.seq.values\n",
        "y = train_pd.bind.values\n",
        "\n"
      ]
    },
    {
      "cell_type": "markdown",
      "metadata": {
        "id": "ABnk7SOliOEv"
      },
      "source": [
        "### 1.1 (15 points) Build Datasets and DataLoaders in PyTorch"
      ]
    },
    {
      "cell_type": "markdown",
      "metadata": {
        "id": "WxF87bdCiOEw"
      },
      "source": [
        "One-hot encode DNA sequence data."
      ]
    },
    {
      "cell_type": "code",
      "execution_count": null,
      "metadata": {
        "id": "qxyse5IviOEw"
      },
      "outputs": [],
      "source": [
        "\n",
        "def SeqEnc(sequences):\n",
        "    # Write your one-hot encoding code here\n",
        "    \n",
        "    i = 0\n",
        "    X = np.zeros((len(sequences),len(list(sequences[0])), 4))\n",
        "\n",
        "    for sequence in sequences:\n",
        "      seq_array = np.array(list(sequence))\n",
        "      onehot_encoder = OneHotEncoder(sparse=False)\n",
        "      label_encoder = LabelEncoder()\n",
        "      integer_encoded_seq = label_encoder.fit_transform(seq_array)\n",
        "      integer_encoded_seq = integer_encoded_seq.reshape(len(integer_encoded_seq), 1)\n",
        "      onehot_encoded_seq = onehot_encoder.fit_transform(integer_encoded_seq)\n",
        "      X[i,:,:] = onehot_encoded_seq\n",
        "      i = i + 1\n",
        "    # sequences - an array of DNA sequences as strings\n",
        "    return X\n",
        "\n",
        "X = SeqEnc(X)\n"
      ]
    },
    {
      "cell_type": "markdown",
      "metadata": {
        "id": "pAxmaToNiOEx"
      },
      "source": [
        "Implement your dataset class that takes in your data."
      ]
    },
    {
      "cell_type": "code",
      "execution_count": null,
      "metadata": {
        "id": "l9vdwONXiOEx"
      },
      "outputs": [],
      "source": [
        "# Generate dataset \n",
        "class SequenceDataset(Dataset):\n",
        "    def __init__(self, X, y):\n",
        "        self.X = torch.Tensor(X)  # store X as a pytorch Tensor\n",
        "        self.y = torch.Tensor(y)  # store y as a pytorch Tensor\n",
        "        self.len=len(self.X)      # number of samples in the data \n",
        "\n",
        "    def __getitem__(self, index):\n",
        "        return self.X[index], self.y[index]\n",
        "        # your implementation here: \n",
        "\n",
        "    def __len__(self):\n",
        "        return self.len\n",
        "    "
      ]
    },
    {
      "cell_type": "markdown",
      "metadata": {
        "id": "k3P90tX6iOEy"
      },
      "source": [
        "Define your Datasets and DataLoaders."
      ]
    },
    {
      "cell_type": "code",
      "execution_count": null,
      "metadata": {
        "id": "xfg8suTAiOEy"
      },
      "outputs": [],
      "source": [
        "# Define dataset\n",
        "X_train, X_test, y_train, y_test = train_test_split(X, y, test_size=0.2)\n",
        "\n",
        "X_subtrain, X_val, y_subtrain, y_val = train_test_split(X_train, y_train, test_size=0.1)\n",
        "\n",
        "\n",
        "#Build Dataset \n",
        "train_data = SequenceDataset(X_subtrain, y_subtrain)\n",
        "val_data = SequenceDataset(X_val, y_val)\n",
        "test_data = SequenceDataset(X_test, y_test)\n",
        "\n",
        "# Build DataLoader \n",
        "batch_size = 256\n",
        "train_loader = DataLoader(train_data, batch_size=batch_size, shuffle=True)\n",
        "val_loader = DataLoader(val_data, batch_size=batch_size, shuffle=True)\n",
        "test_loader = DataLoader(test_data, batch_size=batch_size, shuffle=True)"
      ]
    },
    {
      "cell_type": "markdown",
      "metadata": {
        "id": "naFNU42TiOEy"
      },
      "source": [
        "What is the benefit of batching your data into mini-batches versus using the entire dataset to optimize the model all at once?"
      ]
    },
    {
      "cell_type": "code",
      "execution_count": null,
      "metadata": {
        "id": "Pr1pkRSgiOEz"
      },
      "outputs": [],
      "source": [
        "#It is less computationally expensive and hyperparameters can be updated after each batch\n",
        "\n",
        "\n"
      ]
    },
    {
      "cell_type": "markdown",
      "metadata": {
        "id": "oI3IreXRiOEz"
      },
      "source": [
        "### 1.2 (20 points) Build an LSTM-based binding classifier "
      ]
    },
    {
      "cell_type": "markdown",
      "metadata": {
        "id": "Jb_4w3yNiOEz"
      },
      "source": [
        "The following example will help familiarize you with the LSTM."
      ]
    },
    {
      "cell_type": "code",
      "execution_count": null,
      "metadata": {
        "id": "lPRPWvrjiOEz",
        "colab": {
          "base_uri": "https://localhost:8080/"
        },
        "outputId": "54020449-eb6b-4499-c75a-837ceaccbcda"
      },
      "outputs": [
        {
          "output_type": "stream",
          "name": "stdout",
          "text": [
            "torch.Size([256, 101, 16]) torch.Size([1, 256, 16]) torch.Size([1, 256, 16])\n"
          ]
        }
      ],
      "source": [
        "# Define a LSTM module \n",
        "lstm_model = nn.LSTM(input_size=4, hidden_size=16, batch_first=True).to(\"cuda:0\") # \"cuda:0\" is the device id\n",
        "\n",
        "# Send your batch to a GPU \n",
        "X_batch, y_batch = next(iter(train_loader))\n",
        "X_batch = X_batch.to(\"cuda:0\")\n",
        "y_batch = y_batch.to(\"cuda:0\")\n",
        "\n",
        "# Propagate your batch into your model \n",
        "lstm_out, (ht, ct) = lstm_model(X_batch) \n",
        "print(lstm_out.shape, ht.shape, ct.shape)\n",
        "\n",
        "# You can play with hyperparameters to see how your output changes"
      ]
    },
    {
      "cell_type": "markdown",
      "metadata": {
        "id": "Cg7sGUr7iOE0"
      },
      "source": [
        "Now build your LSTM-based classifier as a nn.Module."
      ]
    },
    {
      "cell_type": "code",
      "execution_count": null,
      "metadata": {
        "id": "OfESPjn_iOE0"
      },
      "outputs": [],
      "source": [
        "class LSTMseq(torch.nn.Module) :\n",
        "    def __init__(self, input_dim, hidden_dim) :\n",
        "        super().__init__()\n",
        "        \n",
        "        # Define a LSTM module\n",
        "        self.lstm = torch.nn.LSTM(hidden_size=hidden_dim,input_size = input_dim, batch_first=True, num_layers=1, \n",
        "                                  bidirectional=True)\n",
        "        # Define a MLP regressor \n",
        "        self.layers = []\n",
        "        self.layers += [torch.nn.Linear(hidden_dim, hidden_dim)]\n",
        "        self.layers += [torch.nn.Tanh()]\n",
        "        self.layers += [torch.nn.Linear(hidden_dim, hidden_dim)]\n",
        "        self.layers += [torch.nn.Tanh()]\n",
        "        self.layers += [torch.nn.Linear(hidden_dim, 1)]\n",
        "\n",
        "        self.mlp = torch.nn.Sequential(*self.layers)\n",
        "\n",
        "        # Define a sigmoid transform\n",
        "        self.sigmoid = torch.nn.Sigmoid()\n",
        "    def forward(self, x):\n",
        "        # Apply LSTM \n",
        "        output, (hn, cn) = self.lstm(x)\n",
        "        # Pass output into a MLP\n",
        "        \n",
        "        out = self.mlp(hn[-1])\n",
        "        # Transform output into probabilites \n",
        "        proba = self.sigmoid(out)\n",
        "        # Return probabilities \n",
        "        \n",
        "        return proba"
      ]
    },
    {
      "cell_type": "code",
      "execution_count": null,
      "metadata": {
        "id": "AAMlKQkAiOE0",
        "colab": {
          "base_uri": "https://localhost:8080/"
        },
        "outputId": "c5e03e2f-e646-48c8-fc3f-bb1fc8e2cc96"
      },
      "outputs": [
        {
          "output_type": "stream",
          "name": "stdout",
          "text": [
            "torch.Size([256, 1])\n"
          ]
        }
      ],
      "source": [
        "# Test your output on a batch \n",
        "clf = LSTMseq(input_dim=4, hidden_dim=16).to('cuda:0')\n",
        "print(clf(X_batch).shape)"
      ]
    },
    {
      "cell_type": "markdown",
      "metadata": {
        "id": "LEaeVS3JiOE0"
      },
      "source": [
        "### 1.3 (25 points) Implement functions for training and testing"
      ]
    },
    {
      "cell_type": "markdown",
      "metadata": {
        "id": "gS11Kzp2iOE1"
      },
      "source": [
        "Your optimizer and scheduler."
      ]
    },
    {
      "cell_type": "code",
      "execution_count": null,
      "metadata": {
        "id": "qNEN8MHZiOE1"
      },
      "outputs": [],
      "source": [
        "device = 'cuda:0'\n",
        "model = LSTMseq(4, 16).to(device)\n",
        "\n",
        "optimizer = torch.optim.Adam(list(model.parameters()), lr=1e-2) # complete optimizer here\n",
        "scheduler = torch.optim.lr_scheduler.ReduceLROnPlateau(optimizer, 'min', verbose=True, factor=0.5)"
      ]
    },
    {
      "cell_type": "markdown",
      "metadata": {
        "id": "LqJ6lqmCiOE1"
      },
      "source": [
        "The training and validation loops and evaluation function."
      ]
    },
    {
      "cell_type": "code",
      "execution_count": null,
      "metadata": {
        "id": "ido_OrnQiOE1"
      },
      "outputs": [],
      "source": [
        "def train(model, dataloader, optimizer, device):\n",
        "    \n",
        "    '''\n",
        "    A function to train on the entire dataset for one epoch.\n",
        "    \n",
        "    Args: \n",
        "        model (torch.nn.Module): Your sequence classifier \n",
        "        dataloader (torch.utils.data.Dataloader): DataLoader object for the train data\n",
        "        optimizer (torch.optim.Optimizer): Optimizer object to interface gradient calculation and optimization \n",
        "        device (str): Your device\n",
        "        \n",
        "    Returns: \n",
        "        float: loss averaged over all the batches \n",
        "    \n",
        "    '''\n",
        "\n",
        "    batch_loss = []\n",
        "    model.train() # Set model to training mode \n",
        "    \n",
        "    for batch in dataloader:    \n",
        "        seq, label = batch\n",
        "        seq = seq.to(device)\n",
        "        label = label.to(device)\n",
        "        \n",
        "        # train your model on each batch here\n",
        "        y_pred = model(seq)\n",
        "        loss = nn.functional.binary_cross_entropy(y_pred.squeeze(),label)\n",
        "        batch_loss.append(loss.item())\n",
        "\n",
        "        optimizer.zero_grad()\n",
        "        loss.backward()\n",
        "        optimizer.step()\n",
        "        \n",
        "    return np.array(batch_loss).mean()\n",
        "\n",
        "\n",
        "def validate(model, dataloader, device):\n",
        "    \n",
        "    '''\n",
        "    A function to validate on the validation dataset for one epoch.\n",
        "    \n",
        "    Args: \n",
        "        model (torch.nn.Module): Your sequence classifier \n",
        "        dataloader (torch.utils.data.Dataloader): DataLoader object for the validation data\n",
        "        device (str): Your device\n",
        "        \n",
        "    Returns: \n",
        "        float: loss averaged over all the batches \n",
        "    \n",
        "    '''\n",
        "    \n",
        "    val_loss = []\n",
        "    model.eval() # Set model to evaluation mode \n",
        "    with torch.no_grad():    \n",
        "        for batch in dataloader:\n",
        "            seq, label = batch\n",
        "            seq = seq.to(device)\n",
        "            label = label.to(device)\n",
        "            \n",
        "            # validate your model on each batch here \n",
        "            y_pred = model(seq)\n",
        "            loss = nn.functional.binary_cross_entropy(y_pred.squeeze(),label)\n",
        "            val_loss.append(loss.item())\n",
        "            \n",
        "    return np.array(val_loss).mean()   \n",
        "\n",
        "def evaluate(model, dataloader, device):\n",
        "\n",
        "    '''\n",
        "    A function to return the classification probabilities and true labels (for evaluation). \n",
        "    \n",
        "    Args: \n",
        "        model (torch.nn.Module): your sequence classifier \n",
        "        dataloader (torch.utils.data.Dataloader): DataLoader object for the train data\n",
        "        device (str): Your device\n",
        "        \n",
        "    Returns: \n",
        "        (np.array, np.array): true labels, predicted probabilities\n",
        "    '''\n",
        "\n",
        "    pred_prob = []\n",
        "    labels = []\n",
        "    with torch.no_grad():\n",
        "        model.eval()\n",
        "        for batch in dataloader:\n",
        "            epoch_loss = []\n",
        "            seq, label = batch\n",
        "\n",
        "            seq = seq.to(device)\n",
        "            label = label.to(device)\n",
        "            \n",
        "            # evaluate your model here\n",
        "            model.eval()\n",
        "            y_pred = model(seq)\n",
        "            pred_prob.append(y_pred)\n",
        "            labels.append(label)\n",
        "            \n",
        "    return labels, pred_prob"
      ]
    },
    {
      "cell_type": "code",
      "execution_count": null,
      "metadata": {
        "id": "y_ZDqT5LiOE2",
        "colab": {
          "base_uri": "https://localhost:8080/"
        },
        "outputId": "75dc391f-2754-45e5-d8ce-2cd3d6b91d33"
      },
      "outputs": [
        {
          "output_type": "stream",
          "name": "stdout",
          "text": [
            "epoch train loss validation loss\n",
            "0 0.694304300321115 0.6936508536338806\n",
            "1 0.6934882176888956 0.6991436362266541\n",
            "2 0.692695756216307 0.694964599609375\n",
            "3 0.6927111793208767 0.6947281956672668\n",
            "4 0.6929849901714841 0.6959660649299622\n",
            "5 0.6924018376582378 0.7041188955307007\n",
            "6 0.6922523041029234 0.6948846220970154\n",
            "7 0.6894201958501661 0.6970101714134216\n",
            "8 0.6849544692683864 0.6812469482421875\n",
            "9 0.6791961998552889 0.6663454055786133\n",
            "10 0.6590620440405768 0.6733089089393616\n",
            "11 0.6564856767654419 0.6138591349124909\n",
            "12 0.6919078198639123 0.6924593567848205\n",
            "13 0.6889065117449373 0.6893395185470581\n",
            "14 0.6783298398997333 0.6907616019248962\n",
            "15 0.6957824310740909 0.6902656555175781\n",
            "16 0.6924985743857719 0.691746461391449\n",
            "17 0.6918448145325119 0.6917308568954468\n",
            "18 0.6868556947321505 0.698892080783844\n",
            "19 0.6944977689433742 0.698666799068451\n",
            "20 0.6937617127959793 0.6946421384811401\n",
            "21 0.6935710649232607 0.689134168624878\n",
            "Epoch    23: reducing learning rate of group 0 to 5.0000e-03.\n",
            "22 0.6927282278602188 0.6881675601005555\n",
            "23 0.6923840641975403 0.7002731919288635\n",
            "24 0.6919731803842493 0.6939048409461975\n",
            "25 0.6921327903464034 0.6858038544654846\n",
            "26 0.6919402673437789 0.6856890320777893\n",
            "27 0.6913923637287037 0.6944164991378784\n",
            "28 0.6914012722066931 0.6912368774414063\n",
            "29 0.691015992615674 0.6885576963424682\n",
            "30 0.6897679873414941 0.6809291243553162\n",
            "31 0.6891678120638873 0.6913503527641296\n",
            "32 0.6863751475875443 0.6829182744026184\n",
            "Epoch    34: reducing learning rate of group 0 to 2.5000e-03.\n",
            "33 0.6807593284426509 0.6954197764396668\n",
            "34 0.6658435786092604 0.6836487770080566\n",
            "35 0.6405425957731299 0.6717326164245605\n",
            "36 0.6267148417395514 0.577653032541275\n",
            "37 0.596504854189383 0.6336991786956787\n",
            "38 0.582682864086048 0.6079485297203064\n",
            "39 0.5806956387854911 0.6026281595230103\n",
            "40 0.5810601066898655 0.5941477537155151\n",
            "41 0.5743267552272694 0.5786382794380188\n",
            "42 0.5628356401984757 0.5346112906932831\n",
            "43 0.5508109991614883 0.5482767939567565\n",
            "44 0.5458641841604903 0.5451079368591308\n",
            "45 0.5441997180113921 0.566198468208313\n",
            "46 0.5325572329598505 0.5356961011886596\n",
            "47 0.5237155621116226 0.5577520728111267\n",
            "48 0.5282075026550809 0.5299571752548218\n",
            "49 0.5199513685058903 0.5029923260211945\n",
            "50 0.5139165005168399 0.5853828907012939\n",
            "51 0.5087466997069281 0.5218169152736664\n",
            "52 0.5007049054712862 0.5364192724227905\n",
            "53 0.4993816106706052 0.49859931468963625\n",
            "54 0.4901350140571594 0.4805867910385132\n",
            "55 0.49525633132135544 0.4812066197395325\n",
            "56 0.48417159431689494 0.45957096815109255\n",
            "57 0.4728974780520877 0.517640745639801\n",
            "58 0.46556012211619197 0.47646455764770507\n",
            "59 0.4612972599429053 0.4838875710964203\n",
            "60 0.4561090421032261 0.44026530385017393\n",
            "61 0.4481498961513107 0.4314492791891098\n",
            "62 0.4438545019239993 0.5174156367778778\n",
            "63 0.4397555356090133 0.5676698923110962\n",
            "64 0.43494687692539113 0.4330058753490448\n",
            "65 0.42615509999764933 0.4785574495792389\n",
            "66 0.42447148303727844 0.482249116897583\n",
            "67 0.42185989183348577 0.4231752097606659\n",
            "68 0.41491491810695547 0.5124739944934845\n",
            "69 0.4089210299221245 0.4776815831661224\n",
            "70 0.4016691824874362 0.4709113657474518\n",
            "71 0.40900400200405634 0.39564780592918397\n",
            "72 0.39964036925418955 0.5863536238670349\n",
            "73 0.4017247517366667 0.5036566972732544\n",
            "74 0.38951758033520467 0.5115715384483337\n",
            "75 0.3962173735773241 0.36626166105270386\n",
            "76 0.38493147975689657 0.39747079610824587\n",
            "77 0.38998867450533686 0.4344995617866516\n",
            "78 0.37916401673007655 0.4187027156352997\n",
            "79 0.3750109777257249 0.36023267805576326\n",
            "80 0.3748292657169136 0.49222416877746583\n",
            "81 0.370837292155704 0.3680842787027359\n",
            "82 0.37499713494970993 0.4049006223678589\n",
            "83 0.3725868161465671 0.40745537281036376\n",
            "84 0.3635115607364758 0.3886644899845123\n",
            "85 0.3602796696327828 0.48820114731788633\n",
            "86 0.36292387021554484 0.4133420526981354\n",
            "87 0.356749811687985 0.419139039516449\n",
            "88 0.349060259155325 0.33892922252416613\n",
            "89 0.3549544682373872 0.49984986186027525\n",
            "90 0.34549695817199916 0.3867663562297821\n",
            "91 0.3543098480314822 0.4172232270240784\n",
            "92 0.3462662704893061 0.4507193505764008\n",
            "93 0.3390967209596892 0.37522669434547423\n",
            "94 0.33332759866843353 0.3544672876596451\n",
            "95 0.3327538153609714 0.35019329786300657\n",
            "96 0.3266262009337142 0.3537756443023682\n",
            "97 0.32349584150958705 0.41873010993003845\n",
            "98 0.3187495264652613 0.31406896859407424\n",
            "99 0.3158412309917244 0.39033100605010984\n",
            "100 0.3361812701096406 0.42545831203460693\n",
            "101 0.31486814529509155 0.31705839931964874\n",
            "102 0.31057804742374934 0.357965761423111\n",
            "103 0.30656322595235463 0.33566327691078185\n",
            "104 0.3088369683639423 0.34113121330738067\n",
            "105 0.30924292271201675 0.32146099805831907\n",
            "106 0.30520675713951523 0.37840922474861144\n",
            "107 0.30175752575333054 0.5094879150390625\n",
            "108 0.2971858438607809 0.32951282262802123\n",
            "Epoch   110: reducing learning rate of group 0 to 1.2500e-03.\n",
            "109 0.2988961810195768 0.3470365583896637\n",
            "110 0.2918578321869309 0.3235085099935532\n",
            "111 0.29339212823558497 0.4365099906921387\n",
            "112 0.29221808829823054 0.45985268950462344\n",
            "113 0.29541383965595347 0.337539353966713\n",
            "114 0.29257445520645864 0.29573809206485746\n",
            "115 0.29143967580150915 0.3180927038192749\n",
            "116 0.2879027663855939 0.33805011510849\n",
            "117 0.2867981972726616 0.3714258670806885\n",
            "118 0.287204678799655 0.32013958394527436\n",
            "119 0.28335506368327784 0.35602139234542846\n",
            "120 0.2812550587428583 0.2981246292591095\n",
            "121 0.28534537110779734 0.3486086964607239\n",
            "122 0.28047636473501053 0.31773502826690675\n",
            "123 0.28084458773200577 0.29319160133600236\n",
            "124 0.28073367073729233 0.31883972585201265\n",
            "125 0.28113378423291285 0.38758949041366575\n",
            "126 0.2753289543293618 0.36294410228729246\n",
            "127 0.2845504295987052 0.291559898853302\n",
            "128 0.27812681085354574 0.3467284023761749\n",
            "129 0.2778572693869874 0.31401388347148895\n",
            "130 0.2806587670300458 0.32385319769382476\n",
            "131 0.2745935763861682 0.348956036567688\n",
            "132 0.2764061165822519 0.308316045999527\n",
            "133 0.2738381394663373 0.4347070813179016\n",
            "134 0.2756391969081518 0.3957662105560303\n",
            "135 0.27288520215330897 0.37294211983680725\n",
            "136 0.2717784562626401 0.31066803336143495\n",
            "137 0.27207317908067963 0.32726237177848816\n",
            "Epoch   139: reducing learning rate of group 0 to 6.2500e-04.\n",
            "138 0.27116431899972865 0.2945033133029938\n",
            "139 0.2675567212942484 0.31248832643032076\n",
            "140 0.2708491344709654 0.2939999312162399\n",
            "141 0.26997672303302866 0.38720691204071045\n",
            "142 0.27286629539889257 0.3646406948566437\n",
            "143 0.2668424095656421 0.43824262619018556\n",
            "144 0.26721454552702 0.36986945271492006\n",
            "145 0.26627746989598144 0.3321981310844421\n",
            "146 0.2653111779206508 0.28334335088729856\n",
            "147 0.2667446237158131 0.28524114936590195\n",
            "148 0.2665056401007884 0.30771862268447875\n",
            "149 0.26522124377456874 0.3066798597574234\n",
            "150 0.27145103345046173 0.3167447954416275\n",
            "151 0.2663911629367519 0.3901559948921204\n",
            "152 0.2649104422008669 0.3406858563423157\n",
            "153 0.26461449064112996 0.3211150288581848\n",
            "154 0.2642271695910273 0.2762239098548889\n",
            "155 0.2627623826265335 0.3038381338119507\n",
            "156 0.264348272536252 0.3198710560798645\n",
            "157 0.26622973543566625 0.29548229873180387\n",
            "158 0.26500282416472565 0.32441003024578097\n",
            "159 0.2612686310265515 0.3129985809326172\n",
            "160 0.2627027284454655 0.2852031007409096\n",
            "161 0.26218449344506134 0.29658696949481966\n",
            "162 0.266790761335476 0.3297808527946472\n",
            "163 0.26265636126737335 0.4016678392887115\n",
            "164 0.2619511412607657 0.3663992822170258\n",
            "Epoch   166: reducing learning rate of group 0 to 3.1250e-04.\n",
            "165 0.26230258635572484 0.2854226678609848\n",
            "166 0.2598600476174741 0.30966863930225375\n",
            "167 0.25972040279491526 0.2886063024401665\n",
            "168 0.2580898045688062 0.3026438385248184\n",
            "169 0.25800900000172694 0.2957786411046982\n",
            "170 0.26135638315935394 0.29942012429237364\n",
            "171 0.25958994836420624 0.3237114429473877\n",
            "172 0.26023365839107615 0.3402793347835541\n",
            "173 0.2581379135718217 0.4443628013134003\n",
            "174 0.2597837782389409 0.30343966484069823\n",
            "175 0.26010225874346654 0.28984129428863525\n",
            "Epoch   177: reducing learning rate of group 0 to 1.5625e-04.\n",
            "176 0.257290416472667 0.4282171368598938\n",
            "177 0.2574199558915319 0.3488063275814056\n",
            "178 0.2565578016880396 0.29908075630664827\n",
            "179 0.2557905537856592 0.2993585646152496\n",
            "180 0.2584592591266374 0.37176207900047303\n",
            "181 0.25714646682545944 0.38297063708305357\n",
            "182 0.2576522964078027 0.29271473586559293\n",
            "183 0.2550353500488642 0.340155166387558\n",
            "184 0.25739592877594203 0.27264885827898977\n",
            "185 0.255756536448324 0.39638962149620055\n",
            "186 0.2574083136545645 0.29415784776210785\n",
            "187 0.2557785615727708 0.2839895084500313\n",
            "188 0.25759245213624593 0.320237523317337\n",
            "189 0.2575336283928639 0.35095096826553346\n",
            "190 0.25525518889362747 0.2744079865515232\n",
            "191 0.2574559111852904 0.3945039391517639\n",
            "192 0.25732658360455485 0.28704039454460145\n",
            "193 0.2562820158294729 0.340016371011734\n",
            "194 0.25624229738841187 0.2761918447911739\n",
            "Epoch   196: reducing learning rate of group 0 to 7.8125e-05.\n",
            "195 0.25526109659993973 0.40322844684123993\n",
            "196 0.2563071412009162 0.37423651218414306\n",
            "197 0.25396858598734884 0.29018884599208833\n",
            "198 0.2548139614833368 0.30272414088249205\n",
            "199 0.256089164195834 0.2883731171488762\n",
            "200 0.25657631577672185 0.4578886091709137\n",
            "201 0.25580687257083684 0.3072656780481339\n",
            "202 0.25883424604261246 0.29270572364330294\n",
            "203 0.25705600630592657 0.4060028553009033\n",
            "204 0.2551105783597843 0.2761582747101784\n",
            "205 0.2555699259848208 0.3361102700233459\n",
            "Epoch   207: reducing learning rate of group 0 to 3.9063e-05.\n",
            "206 0.2577466779464 0.3370221138000488\n",
            "207 0.25639084948075785 0.31907840967178347\n",
            "208 0.25539498353326645 0.2801653206348419\n",
            "209 0.2546803608939454 0.27130420953035356\n",
            "210 0.25455358624458313 0.380031943321228\n",
            "211 0.25570720071728165 0.30730865299701693\n",
            "212 0.2585801409708487 0.3228468358516693\n",
            "213 0.2527613849253268 0.304920557141304\n",
            "214 0.2534525100443814 0.2917872667312622\n",
            "215 0.2542140773824743 0.2882116034626961\n",
            "216 0.25765560929839676 0.2884571820497513\n",
            "217 0.2575622176801836 0.3383107841014862\n",
            "218 0.25790360247766647 0.30823262333869933\n",
            "219 0.25468848363773244 0.3795688807964325\n",
            "Epoch   221: reducing learning rate of group 0 to 1.9531e-05.\n",
            "220 0.2562897390610463 0.32503127455711367\n",
            "221 0.25448910610095876 0.3684424519538879\n",
            "222 0.2559521492268588 0.34621577262878417\n",
            "223 0.25715290775170196 0.2912391036748886\n",
            "224 0.25468506885541453 0.3090339511632919\n",
            "225 0.25278829158963384 0.2701608560979366\n",
            "226 0.25400194727085734 0.35655407309532167\n",
            "227 0.25494412070996053 0.3544327259063721\n",
            "228 0.2537505916647009 0.305754742026329\n",
            "229 0.2548518031835556 0.2877194583415985\n",
            "230 0.25562009940276276 0.3914860963821411\n",
            "231 0.25448104417001877 0.35299145579338076\n",
            "232 0.2529067566265931 0.2872341305017471\n",
            "233 0.25431800452438563 0.2916548639535904\n",
            "234 0.2541518392595085 0.2969100773334503\n",
            "235 0.2544800594851777 0.325305438041687\n",
            "236 0.2574893187832188 0.2694688491523266\n",
            "237 0.25588583100486445 0.32725661993026733\n",
            "238 0.25408879566837 0.2873263031244278\n",
            "239 0.2536813330811423 0.3067119359970093\n",
            "240 0.25716882420552745 0.2942648380994797\n",
            "241 0.25343438539956065 0.30209057331085204\n",
            "242 0.25534072478075287 0.29397270679473875\n",
            "243 0.25598076952470317 0.36365262866020204\n",
            "244 0.25525444423830185 0.2759105995297432\n",
            "245 0.2577311859743015 0.2821605160832405\n",
            "246 0.25339566291989507 0.28924172818660737\n",
            "Epoch   248: reducing learning rate of group 0 to 9.7656e-06.\n",
            "247 0.25424054989943634 0.28284186869859695\n",
            "248 0.25370882652901317 0.27133798971772194\n",
            "249 0.2549611869696024 0.41363012194633486\n",
            "250 0.252663119419201 0.4627419412136078\n",
            "251 0.254083322914871 0.30812297761440277\n",
            "252 0.25269652097611817 0.27790967375040054\n",
            "253 0.25964521959021286 0.30535571873188017\n",
            "254 0.2550081183781495 0.341090601682663\n",
            "255 0.2529129780627586 0.33443952798843385\n",
            "256 0.2514776714347504 0.4139967381954193\n",
            "257 0.2534406785223935 0.2965354949235916\n",
            "Epoch   259: reducing learning rate of group 0 to 4.8828e-06.\n",
            "258 0.25384906175974253 0.2933555364608765\n",
            "259 0.2518892102950328 0.4103694498538971\n",
            "260 0.2570277718273369 0.44936464428901673\n",
            "261 0.2536311516085187 0.3189384609460831\n",
            "262 0.25447008255365733 0.29821994304656985\n",
            "263 0.25331809432119934 0.3345771074295044\n",
            "264 0.25434342228077556 0.45674924850463866\n",
            "265 0.25372045144841476 0.27656524181365966\n",
            "266 0.25481080122896144 0.3679304301738739\n",
            "267 0.2543059865365157 0.2890637397766113\n",
            "268 0.25349892192595713 0.3410947859287262\n",
            "Epoch   270: reducing learning rate of group 0 to 2.4414e-06.\n",
            "269 0.2559263835082183 0.30493848621845243\n",
            "270 0.2540666231432477 0.28701462149620055\n",
            "271 0.255227132423504 0.352274888753891\n",
            "272 0.25549153097578 0.28377877324819567\n",
            "273 0.2542476110361718 0.32167811393737794\n",
            "274 0.2520119495488502 0.3379429876804352\n",
            "275 0.253505742227709 0.29642156660556795\n",
            "276 0.25436676152654597 0.2882809966802597\n",
            "277 0.2539736652696455 0.338983553647995\n",
            "278 0.25315740825356664 0.32607723474502565\n",
            "279 0.25398395593101913 0.4143450438976288\n",
            "Epoch   281: reducing learning rate of group 0 to 1.2207e-06.\n",
            "280 0.2539065137908265 0.3400831699371338\n",
            "281 0.25488122250582723 0.3138043761253357\n",
            "282 0.25515787464541356 0.3115480661392212\n",
            "283 0.2537489843529624 0.3345463991165161\n",
            "284 0.253483245098913 0.34805171489715575\n",
            "285 0.26054280956049225 0.38029595017433165\n",
            "286 0.2535295615325103 0.27791060954332353\n",
            "287 0.25447659758297175 0.28567897230386735\n",
            "288 0.2529208829274049 0.27511942982673643\n",
            "289 0.2538987293436721 0.26829431056976316\n",
            "290 0.25347428829283325 0.3228327989578247\n",
            "291 0.2525757744505599 0.27206426933407785\n",
            "292 0.25437451375497355 0.4196919441223145\n",
            "293 0.2535573799867888 0.3217913329601288\n",
            "294 0.25230603564429926 0.39511479139328004\n",
            "295 0.25495028173601303 0.4167105793952942\n",
            "296 0.25442365536818634 0.34647867679595945\n",
            "297 0.25333796079094345 0.31070914268493655\n",
            "298 0.25197302852128 0.33912392258644103\n",
            "299 0.2516912826009699 0.2868832126259804\n",
            "Epoch   301: reducing learning rate of group 0 to 6.1035e-07.\n",
            "300 0.2528886509102744 0.2841149687767029\n",
            "301 0.25478271858112234 0.3239335775375366\n",
            "302 0.2547080387940278 0.32380971908569334\n",
            "303 0.25506357083449493 0.36053507328033446\n",
            "304 0.25417707095275055 0.3759087324142456\n",
            "305 0.2544270149759344 0.28798500299453733\n",
            "306 0.25377894937992096 0.44733774065971377\n",
            "307 0.2535122214136897 0.37795387506484984\n",
            "308 0.25398808516360616 0.30748203992843626\n",
            "309 0.25271231620698364 0.3487354278564453\n",
            "310 0.2527294106580116 0.34022397398948667\n",
            "Epoch   312: reducing learning rate of group 0 to 3.0518e-07.\n",
            "311 0.2545443950472651 0.27580775767564775\n",
            "312 0.25365644854468267 0.27787295877933504\n",
            "313 0.2535337761447236 0.32908242046833036\n",
            "314 0.2529306762121819 0.2866449043154716\n",
            "315 0.2519868926422016 0.2870454639196396\n",
            "316 0.2538961937298646 0.41666118502616883\n",
            "317 0.2547019776460287 0.29715955555438994\n",
            "318 0.25282433508215724 0.27357072830200196\n",
            "319 0.25311058719415924 0.3245457410812378\n",
            "320 0.25399008796021744 0.35155871510505676\n",
            "321 0.25450875549703034 0.2712008126080036\n",
            "Epoch   323: reducing learning rate of group 0 to 1.5259e-07.\n",
            "322 0.2551975133451256 0.3335562586784363\n",
            "323 0.2531790950813809 0.31425052881240845\n",
            "324 0.2530398199687133 0.3377652049064636\n",
            "325 0.2535867344688725 0.27245021015405657\n",
            "326 0.2560844771765374 0.3509647727012634\n",
            "327 0.25468178576714284 0.27287508025765417\n",
            "328 0.25510175123408035 0.33099453449249266\n",
            "329 0.2525680608846046 0.3241640031337738\n",
            "330 0.2523153988090721 0.3733177840709686\n",
            "331 0.2574954713518555 0.2945029079914093\n",
            "332 0.2579820079577936 0.2806764155626297\n",
            "Epoch   334: reducing learning rate of group 0 to 7.6294e-08.\n",
            "333 0.2541791325485384 0.303282818198204\n",
            "334 0.2546039735143249 0.32566302418708803\n",
            "335 0.254565772172567 0.2946641147136688\n",
            "336 0.2539557548793587 0.34863259792327883\n",
            "337 0.25502609602502874 0.3190312922000885\n",
            "338 0.2535563711379025 0.27553079277276993\n",
            "339 0.2551247783609339 0.3800099819898605\n",
            "340 0.25483591935119115 0.42349475622177124\n",
            "341 0.2541822835400298 0.28356176912784575\n",
            "342 0.2550829137499268 0.3067264199256897\n",
            "343 0.25348756361652064 0.28549801260232927\n",
            "Epoch   345: reducing learning rate of group 0 to 3.8147e-08.\n",
            "344 0.25300187436310023 0.31091648042201997\n",
            "345 0.2538468374593838 0.29495513141155244\n",
            "346 0.25327828969504385 0.397758013010025\n",
            "347 0.25512650206282333 0.3263606786727905\n",
            "348 0.2557598710865588 0.27254652678966523\n",
            "349 0.2543221700030404 0.28026255667209626\n",
            "350 0.25382641642480286 0.3128679931163788\n",
            "351 0.2532940313622758 0.27083352506160735\n",
            "352 0.2540508476463524 0.2843786522746086\n",
            "353 0.2541376726852881 0.3399454832077026\n",
            "354 0.25259555191607086 0.29440113306045534\n",
            "Epoch   356: reducing learning rate of group 0 to 1.9073e-08.\n",
            "355 0.25434653944260366 0.40809566974639894\n",
            "356 0.25522853192445394 0.41933351159095766\n",
            "357 0.2540850699753375 0.30102317631244657\n",
            "358 0.2551632612138181 0.42212356328964235\n",
            "359 0.25291570416978887 0.29091226160526273\n",
            "360 0.2574302747442916 0.28257433921098707\n",
            "361 0.2532384693622589 0.3704145073890686\n",
            "362 0.25355101437182037 0.39199923276901244\n",
            "363 0.255089264463734 0.31045232713222504\n",
            "364 0.2534020716274107 0.42694024443626405\n",
            "365 0.2544535527358184 0.2916994899511337\n",
            "366 0.25509825711314743 0.3076507717370987\n",
            "367 0.2526267195070112 0.3085360199213028\n",
            "368 0.25521947926766164 0.3234792649745941\n",
            "369 0.25599961707720886 0.36302239894866944\n",
            "370 0.255304847214673 0.302510130405426\n",
            "371 0.2541523112638577 0.2737248480319977\n",
            "372 0.2518090811130163 0.3934808760881424\n",
            "373 0.2543479510255762 0.3060218930244446\n",
            "374 0.2532147942362605 0.4796610832214355\n",
            "375 0.2557824833973034 0.3432996869087219\n",
            "376 0.254315650140917 0.32190426588058474\n",
            "377 0.2527151003077224 0.33578855395317075\n",
            "378 0.2537350944570593 0.3277464210987091\n",
            "379 0.25308849239671555 0.35280826687812805\n",
            "380 0.25288995617144816 0.2905302494764328\n",
            "381 0.25366552617098836 0.3617544412612915\n",
            "382 0.25623562126546295 0.4171286404132843\n",
            "383 0.2524421629873482 0.4366328477859497\n",
            "384 0.2539098439989863 0.2895020306110382\n",
            "385 0.2528802313514658 0.2929141730070114\n",
            "386 0.2534132728705535 0.42015894651412966\n",
            "387 0.2533621292661976 0.2909388720989227\n",
            "388 0.25451071520109436 0.2836966723203659\n",
            "389 0.25424509273993 0.29588666260242463\n",
            "390 0.25275678972940185 0.3035565197467804\n",
            "391 0.2529188970456252 0.31862438321113584\n",
            "392 0.25359114601805405 0.3294026792049408\n",
            "393 0.2567202541473749 0.3044936627149582\n",
            "394 0.25398453908997615 0.2852765694260597\n",
            "395 0.25507076205434026 0.29664449095726014\n",
            "396 0.2532573257749145 0.2881035923957825\n",
            "397 0.25572268825930516 0.29320589601993563\n",
            "398 0.25294105507232045 0.31819186806678773\n",
            "399 0.2544937294882697 0.28918064534664156\n",
            "400 0.253738139529486 0.31373198628425597\n",
            "401 0.2531060632821676 0.2995105117559433\n",
            "402 0.25351082432914424 0.3669459939002991\n",
            "403 0.254721770415435 0.3199320375919342\n",
            "404 0.25550114343295227 0.5674911439418793\n",
            "405 0.25507294044301315 0.28365481048822405\n",
            "406 0.2549001034852621 0.2863235011696815\n",
            "407 0.2559653125904702 0.27895880341529844\n",
            "408 0.2540964935276959 0.2812859699130058\n",
            "409 0.252850213969076 0.3040170282125473\n",
            "410 0.25425371849859085 0.27187354788184165\n",
            "411 0.25478553691425837 0.32380028665065763\n",
            "412 0.2541208682028023 0.36310582160949706\n",
            "413 0.25727917817798823 0.373611319065094\n",
            "414 0.2558720345432694 0.31663150191307066\n",
            "415 0.25384754023036443 0.2923398822546005\n",
            "416 0.25290380780761307 0.4062009394168854\n",
            "417 0.2568065528128598 0.273925469070673\n",
            "418 0.2541694181996423 0.28298341333866117\n",
            "419 0.25623204861138316 0.32384254336357116\n",
            "420 0.2521715131965843 0.3190043270587921\n",
            "421 0.25435254541603297 0.2829728439450264\n",
            "422 0.254949343768326 0.4362648010253906\n",
            "423 0.2522711479986036 0.2857420727610588\n",
            "424 0.25476884761372126 0.4132571041584015\n",
            "425 0.2532569673415777 0.26851915307343005\n",
            "426 0.25458218680845723 0.32770790457725524\n",
            "427 0.25405032731391286 0.341891148686409\n",
            "428 0.25455138933014226 0.42357056140899657\n",
            "429 0.252918942554577 0.33438504338264463\n",
            "430 0.2549124952103641 0.2852153807878494\n",
            "431 0.25522271966612015 0.30130877196788786\n",
            "432 0.25429011679984426 0.34221318960189817\n",
            "433 0.2514185232890619 0.26792411394417287\n",
            "434 0.25231481927472194 0.2897444009780884\n",
            "435 0.25649569405091777 0.3780245542526245\n",
            "436 0.25426304541729594 0.28011268377304077\n",
            "437 0.2540009923883387 0.40886489748954774\n",
            "438 0.25455567280988434 0.36980440020561217\n",
            "439 0.25398417139375534 0.2909445703029633\n",
            "440 0.2549894101716377 0.3400393486022949\n",
            "441 0.2533325335463962 0.32243425250053404\n",
            "442 0.2544536711396398 0.36691657900810243\n",
            "443 0.25216224789619446 0.29579860866069796\n",
            "444 0.25240815008008805 0.3034853607416153\n",
            "445 0.2552526569044268 0.27487188279628755\n",
            "446 0.25250511032504 0.3387624561786652\n",
            "447 0.2545052202972206 0.35293599367141726\n",
            "448 0.2539729318908743 0.33164376616477964\n",
            "449 0.25333120452391134 0.3320655584335327\n",
            "450 0.25410814502754725 0.33064925074577334\n",
            "451 0.25577308197279236 0.3577750623226166\n",
            "452 0.25411892138622905 0.3438440442085266\n",
            "453 0.2541704483934351 0.28717541992664336\n",
            "454 0.2515471907886299 0.33125815391540525\n",
            "455 0.25390519121208704 0.2949608325958252\n",
            "456 0.2528599987964372 0.327064311504364\n",
            "457 0.25287419678391637 0.28914366364479066\n",
            "458 0.25749134453567296 0.28718344271183016\n",
            "459 0.2539270496046221 0.32269800305366514\n",
            "460 0.25367824290249796 0.3132415771484375\n",
            "461 0.2535321724575919 0.292648908495903\n",
            "462 0.2539562687680528 0.2871710300445557\n",
            "463 0.25255883223301656 0.3696888744831085\n",
            "464 0.2565978556065946 0.36742697954177855\n",
            "465 0.25220489139492447 0.2836622163653374\n",
            "466 0.25174788164125905 0.3830602467060089\n",
            "467 0.25289548812685786 0.32818742990493777\n",
            "468 0.2536437499362069 0.3301398754119873\n",
            "469 0.25429132218296463 0.4577914774417877\n",
            "470 0.254083332177755 0.27622743546962736\n",
            "471 0.253817099977184 0.31405424475669863\n",
            "472 0.25376100838184357 0.3174442172050476\n",
            "473 0.2534666278877774 0.3485347867012024\n",
            "474 0.2554377248963794 0.3117271363735199\n",
            "475 0.2547210120671504 0.29572243690490724\n",
            "476 0.2532875243876431 0.35427863001823423\n",
            "477 0.2523809466007593 0.59412322640419\n",
            "478 0.2559758847629702 0.4467953026294708\n",
            "479 0.25339221914072296 0.29713832437992094\n",
            "480 0.2532986865655796 0.29626440107822416\n",
            "481 0.25307203184913946 0.34893742203712463\n",
            "482 0.2542943140944919 0.308467298746109\n",
            "483 0.2526997009644637 0.335806667804718\n",
            "484 0.2529338916411271 0.5003072142601013\n",
            "485 0.25564688444137573 0.2707842171192169\n",
            "486 0.2552071237886274 0.4153768002986908\n",
            "487 0.25657429324614034 0.286925220489502\n",
            "488 0.2556630598532187 0.3152486801147461\n",
            "489 0.2545809045031264 0.33051706552505494\n",
            "490 0.253336167013323 0.3887918472290039\n",
            "491 0.25393844939566945 0.3418795555830002\n",
            "492 0.25518507852747635 0.3071815878152847\n",
            "493 0.2554125338792801 0.28912279605865476\n",
            "494 0.25500958352475556 0.2834060087800026\n",
            "495 0.25367137548085805 0.3221130967140198\n",
            "496 0.2533046687776978 0.31394352316856383\n",
            "497 0.2532301380022152 0.3782702088356018\n",
            "498 0.252923729451927 0.30545212924480436\n",
            "499 0.25340820043473633 0.43667361736297605\n"
          ]
        }
      ],
      "source": [
        "print(\"epoch\", \"train loss\", \"validation loss\")\n",
        "\n",
        "val_loss_curve = []\n",
        "train_loss_curve = []\n",
        "\n",
        "for epoch in range(500):\n",
        "    \n",
        "    # Compute train your model on training data\n",
        "    epoch_loss = train(model, train_loader, optimizer,  device=0)\n",
        "    \n",
        "    # Validate your on validation data \n",
        "    val_loss = validate(model, val_loader, device=0) \n",
        "    \n",
        "    # Record train and loss performance \n",
        "    train_loss_curve.append(epoch_loss)\n",
        "    val_loss_curve.append(val_loss)\n",
        "    \n",
        "    # The learning rate scheduler records the validation loss \n",
        "    scheduler.step(val_loss)\n",
        "    \n",
        "    print(epoch, epoch_loss, val_loss)"
      ]
    },
    {
      "cell_type": "markdown",
      "metadata": {
        "id": "8aIMdzlLiOE2"
      },
      "source": [
        "Plot train and validation loss functions."
      ]
    },
    {
      "cell_type": "code",
      "execution_count": null,
      "metadata": {
        "id": "NWOkvdOriOE2",
        "colab": {
          "base_uri": "https://localhost:8080/",
          "height": 287
        },
        "outputId": "c5e99741-b390-4f83-8ffb-e966f0fba18e"
      },
      "outputs": [
        {
          "output_type": "display_data",
          "data": {
            "text/plain": [
              "<Figure size 432x288 with 1 Axes>"
            ],
            "image/png": "[encoded data removed]"
          },
          "metadata": {
            "needs_background": "light"
          }
        }
      ],
      "source": [
        "fig, ax = plt.subplots(figsize=(6, 4))\n",
        "ax.plot(val_loss_curve, label='Validation Loss')\n",
        "ax.plot(train_loss_curve, label='Training Loss')\n",
        "ax.set_xlabel('Epoch')\n",
        "ax.set_ylabel('Loss')\n",
        "ax.legend(loc='upper right')\n",
        "fig.tight_layout()"
      ]
    },
    {
      "cell_type": "markdown",
      "metadata": {
        "id": "mXkMfncDiOE2"
      },
      "source": [
        "Report the AUC on test data."
      ]
    },
    {
      "cell_type": "code",
      "execution_count": null,
      "metadata": {
        "id": "xwtWX3c_iOE2",
        "colab": {
          "base_uri": "https://localhost:8080/"
        },
        "outputId": "cd723ddd-72f1-4572-f441-72362e8b0ff7"
      },
      "outputs": [
        {
          "output_type": "stream",
          "name": "stdout",
          "text": [
            "AUC on the test dataset is 0.9352685327990543.\n"
          ]
        }
      ],
      "source": [
        "# Code to compute AUC on test data \n",
        "model.eval()\n",
        "\n",
        "X_test_cuda = torch.Tensor(X_test).cuda()\n",
        "\n",
        "\n",
        "y_pred = model(X_test_cuda)\n",
        "y_pred = y_pred.cpu().detach().numpy()\n",
        "\n",
        "test_score = sklearn.metrics.roc_auc_score(y_test, y_pred)\n",
        "    \n",
        "print(\"AUC on the test dataset is {}.\".format(test_score) ) "
      ]
    },
    {
      "cell_type": "markdown",
      "metadata": {
        "id": "fR1QzmcCiOE2"
      },
      "source": [
        "## Part 2: Dimensionality Reduction for Molecular Representations"
      ]
    },
    {
      "cell_type": "code",
      "execution_count": null,
      "metadata": {
        "id": "tFX_pvemiOE2",
        "colab": {
          "base_uri": "https://localhost:8080/"
        },
        "outputId": "c74450f3-3741-4c95-cfbb-ce6fa9c3069a"
      },
      "outputs": [
        {
          "output_type": "stream",
          "name": "stdout",
          "text": [
            "--2022-03-16 00:03:40--  https://raw.githubusercontent.com/vikram-sundar/ML4MolEng_Spring2022/master/psets/ps3/data/drug.csv\n",
            "Resolving raw.githubusercontent.com (raw.githubusercontent.com)... 185.199.108.133, 185.199.109.133, 185.199.110.133, ...\n",
            "Connecting to raw.githubusercontent.com (raw.githubusercontent.com)|185.199.108.133|:443... connected.\n",
            "HTTP request sent, awaiting response... 200 OK\n",
            "Length: 314383 (307K) [text/plain]\n",
            "Saving to: ‘drug.csv’\n",
            "\n",
            "drug.csv            100%[===================>] 307.01K  --.-KB/s    in 0.06s   \n",
            "\n",
            "2022-03-16 00:03:40 (4.89 MB/s) - ‘drug.csv’ saved [314383/314383]\n",
            "\n",
            "--2022-03-16 00:03:40--  https://raw.githubusercontent.com/vikram-sundar/ML4MolEng_Spring2022/master/psets/ps3/data/morgan.csv\n",
            "Resolving raw.githubusercontent.com (raw.githubusercontent.com)... 185.199.109.133, 185.199.108.133, 185.199.110.133, ...\n",
            "Connecting to raw.githubusercontent.com (raw.githubusercontent.com)|185.199.109.133|:443... connected.\n",
            "HTTP request sent, awaiting response... 200 OK\n",
            "Length: 59251200 (57M) [text/plain]\n",
            "Saving to: ‘morgan.csv’\n",
            "\n",
            "morgan.csv          100%[===================>]  56.51M   113MB/s    in 0.5s    \n",
            "\n",
            "2022-03-16 00:03:41 (113 MB/s) - ‘morgan.csv’ saved [59251200/59251200]\n",
            "\n"
          ]
        }
      ],
      "source": [
        "! wget https://raw.githubusercontent.com/vikram-sundar/ML4MolEng_Spring2022/master/psets/ps3/data/drug.csv\n",
        "! wget https://raw.githubusercontent.com/vikram-sundar/ML4MolEng_Spring2022/master/psets/ps3/data/morgan.csv"
      ]
    },
    {
      "cell_type": "code",
      "execution_count": null,
      "metadata": {
        "id": "qHiFQpaOiOE2"
      },
      "outputs": [],
      "source": [
        "# load data \n",
        "df = pd.read_csv(\"drug.csv\")\n",
        "fp = np.loadtxt('morgan.csv', delimiter=',')\n",
        "\n",
        "assert fp.shape[0] == df.shape[0]\n"
      ]
    },
    {
      "cell_type": "markdown",
      "metadata": {
        "id": "QBzGILF7iOE3"
      },
      "source": [
        "### 2.1 (10 points) Principal Component Analysis on Molecular Fingerprints"
      ]
    },
    {
      "cell_type": "markdown",
      "metadata": {
        "id": "fWvijTaviOE3"
      },
      "source": [
        "Perform PCA to reduce data into vectors of 100 dimensions."
      ]
    },
    {
      "cell_type": "code",
      "execution_count": null,
      "metadata": {
        "id": "O-n4xuVaiOE3",
        "colab": {
          "base_uri": "https://localhost:8080/",
          "height": 365
        },
        "outputId": "51f02fea-d2e1-4e88-a4a9-e63cfe72e6bc"
      },
      "outputs": [
        {
          "output_type": "execute_result",
          "data": {
            "text/plain": [
              "<matplotlib.legend.Legend at 0x7f9953f9f450>"
            ]
          },
          "metadata": {},
          "execution_count": 104
        },
        {
          "output_type": "display_data",
          "data": {
            "text/plain": [
              "<Figure size 360x360 with 1 Axes>"
            ],
            "image/png": "[encoded data removed]"
          },
          "metadata": {
            "needs_background": "light"
          }
        }
      ],
      "source": [
        "\n",
        "# skeleton code for plotting\n",
        "\n",
        "PCA = sklearn.decomposition.PCA(n_components = 100)\n",
        "PCA.fit(fp.transpose())\n",
        "components = PCA.components_\n",
        "labels = np.ravel(df[[\"is_active\"]].to_numpy())\n",
        "\n",
        "x_active = []\n",
        "y_active = []\n",
        "x_inactive = []\n",
        "y_inactive = []\n",
        "\n",
        "\n",
        "for i in range(0,len(components.transpose())):\n",
        "  if labels[i]==1:\n",
        "    x_active.append(components[0,i])\n",
        "    y_active.append(components[1,i])\n",
        "  else:\n",
        "    x_inactive.append(components[0,i])\n",
        "    y_inactive.append(components[1,i])\n",
        "\n",
        "fig, ax = plt.subplots(figsize=(5,5))\n",
        "\n",
        "labels = np.ravel(df[[\"is_active\"]].to_numpy())\n",
        "\n",
        "\n",
        "ax.scatter(x_inactive, y_inactive, s=3, label='inactive') \n",
        "ax.scatter(x_active, y_active, color='red', s= 3, label='active')\n",
        "ax.legend()\n"
      ]
    },
    {
      "cell_type": "markdown",
      "metadata": {
        "id": "XOmz2Ib-iOE3"
      },
      "source": [
        "What is the explained variance ratio of the 100 principal components?"
      ]
    },
    {
      "cell_type": "code",
      "execution_count": null,
      "metadata": {
        "id": "riRfSh7giOE3",
        "colab": {
          "base_uri": "https://localhost:8080/"
        },
        "outputId": "b6736618-f94d-4d04-bf2f-10a6c751cff0"
      },
      "outputs": [
        {
          "output_type": "stream",
          "name": "stdout",
          "text": [
            "The first 100 components explains 0.6909853116164084 of the total variance\n"
          ]
        }
      ],
      "source": [
        "var_ratio = PCA.explained_variance_ratio_\n",
        "\n",
        "print(\"The first 100 components explains {} of the total variance\".format(sum(var_ratio)) )"
      ]
    },
    {
      "cell_type": "markdown",
      "metadata": {
        "id": "WbBAZ0ljiOE3"
      },
      "source": [
        "What patterns do you observe?"
      ]
    },
    {
      "cell_type": "code",
      "execution_count": null,
      "metadata": {
        "id": "59Yz0CO5iOE3"
      },
      "outputs": [],
      "source": [
        "#active drugs are very closely clustered around the second component (right?[clustering is along y = 0])"
      ]
    },
    {
      "cell_type": "markdown",
      "metadata": {
        "id": "qYgPe9AmiOE3"
      },
      "source": [
        "### 2.2 (10 points) t-SNE analysis on Molecular Fingerprints"
      ]
    },
    {
      "cell_type": "markdown",
      "metadata": {
        "id": "5y5tuw9xiOE4"
      },
      "source": [
        "Perform t-SNE on the obtained principal components, with perplexity value of 2, 30, and 500. Plot the results and label your plots."
      ]
    },
    {
      "cell_type": "code",
      "execution_count": null,
      "metadata": {
        "id": "ZCLbrkYaiOE4",
        "colab": {
          "base_uri": "https://localhost:8080/",
          "height": 1000
        },
        "outputId": "245296d6-a99b-4dc4-bdc2-4d2c6b7ea467"
      },
      "outputs": [
        {
          "output_type": "stream",
          "name": "stderr",
          "text": [
            "/usr/local/lib/python3.7/dist-packages/sklearn/manifold/_t_sne.py:783: FutureWarning: The default initialization in TSNE will change from 'random' to 'pca' in 1.2.\n",
            "  FutureWarning,\n",
            "/usr/local/lib/python3.7/dist-packages/sklearn/manifold/_t_sne.py:793: FutureWarning: The default learning rate in TSNE will change from 200.0 to 'auto' in 1.2.\n",
            "  FutureWarning,\n",
            "/usr/local/lib/python3.7/dist-packages/sklearn/manifold/_t_sne.py:783: FutureWarning: The default initialization in TSNE will change from 'random' to 'pca' in 1.2.\n",
            "  FutureWarning,\n",
            "/usr/local/lib/python3.7/dist-packages/sklearn/manifold/_t_sne.py:793: FutureWarning: The default learning rate in TSNE will change from 200.0 to 'auto' in 1.2.\n",
            "  FutureWarning,\n",
            "/usr/local/lib/python3.7/dist-packages/sklearn/manifold/_t_sne.py:783: FutureWarning: The default initialization in TSNE will change from 'random' to 'pca' in 1.2.\n",
            "  FutureWarning,\n",
            "/usr/local/lib/python3.7/dist-packages/sklearn/manifold/_t_sne.py:793: FutureWarning: The default learning rate in TSNE will change from 200.0 to 'auto' in 1.2.\n",
            "  FutureWarning,\n"
          ]
        },
        {
          "output_type": "execute_result",
          "data": {
            "text/plain": [
              "<matplotlib.legend.Legend at 0x7f9953f10510>"
            ]
          },
          "metadata": {},
          "execution_count": 105
        },
        {
          "output_type": "display_data",
          "data": {
            "text/plain": [
              "<Figure size 360x360 with 1 Axes>"
            ],
            "image/png": "[encoded data removed]"
          },
          "metadata": {
            "needs_background": "light"
          }
        },
        {
          "output_type": "display_data",
          "data": {
            "text/plain": [
              "<Figure size 360x360 with 1 Axes>"
            ],
            "image/png": "[encoded data removed]"
          },
          "metadata": {
            "needs_background": "light"
          }
        },
        {
          "output_type": "display_data",
          "data": {
            "text/plain": [
              "<Figure size 360x360 with 1 Axes>"
            ],
            "image/png": "[encoded data removed]"
          },
          "metadata": {
            "needs_background": "light"
          }
        }
      ],
      "source": [
        "# Perplexity = 2\n",
        "TSNE2 = TSNE(n_components=2, perplexity=2)\n",
        "TSNE2.fit(fp)\n",
        "\n",
        "x_p2_active = []\n",
        "y_p2_active = []\n",
        "x_p2_inactive = []\n",
        "y_p2_inactive = []\n",
        "for i in range(0,len(TSNE2.embedding_[:,1])):\n",
        "  if labels[i]==1:\n",
        "    x_p2_active.append(TSNE2.embedding_[i,0])\n",
        "    y_p2_active.append(TSNE2.embedding_[i,1])\n",
        "  else:\n",
        "    x_p2_inactive.append(TSNE2.embedding_[i,0])\n",
        "    y_p2_inactive.append(TSNE2.embedding_[i,1])\n",
        "\n",
        "fig, ax = plt.subplots(figsize=(5,5))\n",
        "ax.set_title('Perplexity = 2')\n",
        "ax.scatter(x_p2_inactive, y_p2_inactive, s=3, label='inactive') \n",
        "ax.scatter(x_p2_active, y_p2_active, color='red', s= 3, label='active')\n",
        "ax.legend()\n",
        "\n",
        "# perplexity = 30\n",
        "TSNE30 = TSNE(n_components=2, perplexity=30)\n",
        "TSNE30.fit(fp)\n",
        "\n",
        "x_p30_active = []\n",
        "y_p30_active = []\n",
        "x_p30_inactive = []\n",
        "y_p30_inactive = []\n",
        "for i in range(0,len(TSNE30.embedding_[:,1])):\n",
        "  if labels[i]==1:\n",
        "    x_p30_active.append(TSNE30.embedding_[i,0])\n",
        "    y_p30_active.append(TSNE30.embedding_[i,1])\n",
        "  else:\n",
        "    x_p30_inactive.append(TSNE30.embedding_[i,0])\n",
        "    y_p30_inactive.append(TSNE30.embedding_[i,1])\n",
        "\n",
        "fig, ax = plt.subplots(figsize=(5,5))\n",
        "ax.set_title('Perplexity = 30')\n",
        "ax.scatter(x_p30_inactive, y_p30_inactive, s=3, label='inactive') \n",
        "ax.scatter(x_p30_active, y_p30_active, color='red', s= 3, label='active')\n",
        "ax.legend()\n",
        "\n",
        "#perplexity = 500\n",
        "\n",
        "TSNE500 = TSNE(n_components=2, perplexity=500)\n",
        "TSNE500.fit(fp)\n",
        "\n",
        "x_p500_active = []\n",
        "y_p500_active = []\n",
        "x_p500_inactive = []\n",
        "y_p500_inactive = []\n",
        "for i in range(0,len(TSNE500.embedding_[:,1])):\n",
        "  if labels[i]==1:\n",
        "    x_p500_active.append(TSNE500.embedding_[i,0])\n",
        "    y_p500_active.append(TSNE500.embedding_[i,1])\n",
        "  else:\n",
        "    x_p500_inactive.append(TSNE500.embedding_[i,0])\n",
        "    y_p500_inactive.append(TSNE500.embedding_[i,1])\n",
        "\n",
        "fig, ax = plt.subplots(figsize=(5,5))\n",
        "ax.set_title('Perplexity = 500')\n",
        "ax.scatter(x_p500_inactive, y_p500_inactive, s=3, label='inactive') \n",
        "ax.scatter(x_p500_active, y_p500_active, color='red', s= 3, label='active')\n",
        "ax.legend()\n",
        "\n"
      ]
    },
    {
      "cell_type": "markdown",
      "metadata": {
        "id": "Eb88lDe9iOE4"
      },
      "source": [
        "What differences do you see between the 3 t-SNE plots? What patterns do you observe in the perplexity = 30 plot?"
      ]
    },
    {
      "cell_type": "code",
      "execution_count": null,
      "metadata": {
        "id": "V3SCAP7EiOE4",
        "colab": {
          "base_uri": "https://localhost:8080/"
        },
        "outputId": "11711e87-198b-43ba-f1a3-f39fbc51447e"
      },
      "outputs": [
        {
          "output_type": "stream",
          "name": "stdout",
          "text": [
            "2\n"
          ]
        }
      ],
      "source": [
        "#The clustering patterns are different for each perplexity\n",
        "#the lowest perplexiy graph has most disperse clusters\n",
        "#interestingly, perplexity=30 lends to the most distinct clusters\n",
        "\n",
        "#Not only does perplexity=30 lend to the best inactive compound clustering, but \n",
        "#active compounds are also clustered best, hence it is the most informative method\n",
        "\n",
        "\n",
        "\n"
      ]
    },
    {
      "cell_type": "markdown",
      "metadata": {
        "id": "gA4xabGOiOE4"
      },
      "source": [
        "### 2.3 (15 points) Are the low dimensional embeddings meaningful?"
      ]
    },
    {
      "cell_type": "markdown",
      "metadata": {
        "id": "Ix2KC-g5iOE4"
      },
      "source": [
        "Split the data into 10 folds. For each fold, train on the other 9 folds and validate on the last fold. Record your prediction."
      ]
    },
    {
      "cell_type": "code",
      "execution_count": null,
      "metadata": {
        "id": "lCrXPyw2iOE4"
      },
      "outputs": [],
      "source": [
        "kf = KFold(n_splits=10, shuffle=True)\n",
        "\n",
        "X = fp\n",
        "fp\n",
        "kf.get_n_splits(X,labels)\n",
        "splits = kf.split(X,labels)\n",
        "\n",
        "\n",
        "TP = []\n",
        "TN = []\n",
        "FP = []\n",
        "FN = []\n",
        "\n",
        "for train_index, test_index in list(kf.split(X, labels)):\n",
        "  X_train, X_test = X[train_index], X[test_index]\n",
        "  y_train, y_test = labels[train_index], labels[test_index]\n",
        "  \n",
        "  clf = RandomForestClassifier()\n",
        "  clf.fit(X_train, y_train)\n",
        "  y_pred = clf.predict(X_test)\n",
        "  \n",
        "  for i in range(0,len(y_test)):\n",
        "    if y_test[i] == 0:\n",
        "      if y_pred[i] == 0:\n",
        "        TN.append(test_index[i])\n",
        "      else:\n",
        "        FN.append(test_index[i])\n",
        "    else:\n",
        "      if y_pred[i] == 1:\n",
        "        TP.append(test_index[i])\n",
        "      else:\n",
        "        FP.append(test_index[i])\n",
        "\n",
        "\n"
      ]
    },
    {
      "cell_type": "markdown",
      "metadata": {
        "id": "PWQyqO_siOE4"
      },
      "source": [
        "Classify your predictions into True Positives (TP), True Negatives (TN), False Positives (FP) and False Negatives (FN)."
      ]
    },
    {
      "cell_type": "code",
      "execution_count": null,
      "metadata": {
        "id": "523egcP5iOE4",
        "colab": {
          "base_uri": "https://localhost:8080/"
        },
        "outputId": "d388d7c1-b597-479c-e152-461910f19390"
      },
      "outputs": [
        {
          "output_type": "stream",
          "name": "stdout",
          "text": [
            "[46, 53, 59, 64, 65, 78, 61, 67, 73, 0, 38, 51, 56, 1, 52, 74, 75, 77, 39, 70, 43, 47, 69, 35, 45, 55, 66]\n"
          ]
        }
      ],
      "source": [
        "#done in loop above"
      ]
    },
    {
      "cell_type": "markdown",
      "metadata": {
        "id": "cLesEX46iOE5"
      },
      "source": [
        "Plot the 2D t-SNE embeddings (perplexity = 30) colored by the four classification classes."
      ]
    },
    {
      "cell_type": "code",
      "execution_count": null,
      "metadata": {
        "id": "vl3A5LzFiOE5",
        "colab": {
          "base_uri": "https://localhost:8080/",
          "height": 345
        },
        "outputId": "3967d48a-7030-4017-991a-26f18008d7c3"
      },
      "outputs": [
        {
          "output_type": "execute_result",
          "data": {
            "text/plain": [
              "<matplotlib.legend.Legend at 0x7f994a9b0710>"
            ]
          },
          "metadata": {},
          "execution_count": 172
        },
        {
          "output_type": "display_data",
          "data": {
            "text/plain": [
              "<Figure size 360x360 with 1 Axes>"
            ],
            "image/png": "[encoded data removed]"
          },
          "metadata": {
            "needs_background": "light"
          }
        }
      ],
      "source": [
        "X = TSNE30.embedding_\n",
        "\n",
        "fig, ax = plt.subplots(figsize=(5,5))\n",
        "ax.scatter(X[[TP],0], X[[TP],1], s=3,color = 'green', label='TP') \n",
        "ax.scatter(X[[FP],0], X[[FP],1], s=3,color = 'blue', label='FP') \n",
        "ax.scatter(X[[TN],0], X[[TN],1], s=3,color = 'red', label='TN') \n",
        "ax.scatter(X[[FN],0], X[[FN],1], s=3,color = 'black', label='FN') \n",
        "\n",
        "ax.legend()"
      ]
    },
    {
      "cell_type": "markdown",
      "metadata": {
        "id": "WyodoET-iOE5"
      },
      "source": [
        "What pattern do you observe? "
      ]
    },
    {
      "cell_type": "code",
      "execution_count": null,
      "metadata": {
        "id": "K3aiBP3tiOE5"
      },
      "outputs": [],
      "source": [
        "#All FPs are outside of the TP clusters and there were no FNs"
      ]
    }
  ],
  "metadata": {
    "accelerator": "GPU",
    "colab": {
      "name": "KSD 20.C01 pset3.ipynb",
      "provenance": [],
      "collapsed_sections": []
    },
    "kernelspec": {
      "display_name": "Python 3 (ipykernel)",
      "language": "python",
      "name": "python3"
    },
    "language_info": {
      "codemirror_mode": {
        "name": "ipython",
        "version": 3
      },
      "file_extension": ".py",
      "mimetype": "text/x-python",
      "name": "python",
      "nbconvert_exporter": "python",
      "pygments_lexer": "ipython3",
      "version": "3.8.12"
    }
  },
  "nbformat": 4,
  "nbformat_minor": 0
}
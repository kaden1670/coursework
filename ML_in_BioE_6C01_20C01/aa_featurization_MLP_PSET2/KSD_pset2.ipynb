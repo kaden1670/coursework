{
  "cells": [
    {
      "cell_type": "markdown",
      "metadata": {
        "id": "jgrkg6_gCDNf"
      },
      "source": [
        "#  <center> Problem Set 2 (MHC) <center>\n",
        "<center> Spring 2022 <center>\n",
        "<center> 3.C01/3.C51, 10.C01/10.C51, 20.C01/20.C51 <center>\n",
        "<center> Due: TBD <center>"
      ]
    },
    {
      "cell_type": "markdown",
      "metadata": {
        "id": "Zxi7aUSvCDNi"
      },
      "source": [
        "<b>Name: Kaden Dimarco</b>\n",
        "\n",
        "<b>Kerberos ID: kaden167</b>"
      ]
    },
    {
      "cell_type": "code",
      "execution_count": null,
      "metadata": {
        "id": "jy5J0dUxCDNi"
      },
      "outputs": [],
      "source": [
        "import matplotlib.pyplot as plt\n",
        "from sklearn import preprocessing\n",
        "from sklearn.linear_model import LinearRegression, LogisticRegression, Ridge, Lasso\n",
        "from sklearn.model_selection import train_test_split\n",
        "from sklearn.neural_network import MLPRegressor, MLPClassifier\n",
        "from sklearn.metrics import ConfusionMatrixDisplay\n",
        "from sklearn.utils import shuffle\n",
        "from torch.utils.data import Dataset, DataLoader\n",
        "import pandas as pd\n",
        "import numpy as np\n",
        "import matplotlib\n",
        "import torch\n",
        "\n",
        "matplotlib.rcParams.update({'font.size': 15})\n",
        "matplotlib.rc('lines', linewidth=3, color='g')\n",
        "matplotlib.rcParams['axes.linewidth'] = 2.0\n",
        "matplotlib.rcParams['axes.linewidth'] = 2.0\n",
        "matplotlib.rcParams[\"xtick.major.size\"] = 6\n",
        "matplotlib.rcParams[\"ytick.major.size\"] = 6\n",
        "matplotlib.rcParams[\"ytick.major.width\"] = 2\n",
        "matplotlib.rcParams[\"xtick.major.width\"] = 2\n",
        "matplotlib.rcParams['text.usetex'] = False"
      ]
    },
    {
      "cell_type": "markdown",
      "metadata": {
        "id": "mEvC89GkCDNj"
      },
      "source": [
        "### Download required data "
      ]
    },
    {
      "cell_type": "code",
      "execution_count": null,
      "metadata": {
        "id": "A1jtjvh4CDNk",
        "colab": {
          "base_uri": "https://localhost:8080/"
        },
        "outputId": "122e4b5c-432e-450a-ffe4-7f26ef41689d"
      },
      "outputs": [
        {
          "output_type": "stream",
          "name": "stdout",
          "text": [
            "--2022-03-01 20:14:59--  https://raw.githubusercontent.com/vikram-sundar/ML4MolEng_Spring2022/master/psets/ps2-MHC/data/amino_acid.csv\n",
            "Resolving raw.githubusercontent.com (raw.githubusercontent.com)... 185.199.110.133, 185.199.108.133, 185.199.109.133, ...\n",
            "Connecting to raw.githubusercontent.com (raw.githubusercontent.com)|185.199.110.133|:443... connected.\n",
            "HTTP request sent, awaiting response... 200 OK\n",
            "Length: 8966 (8.8K) [text/plain]\n",
            "Saving to: ‘amino_acid.csv’\n",
            "\n",
            "\ramino_acid.csv        0%[                    ]       0  --.-KB/s               \ramino_acid.csv      100%[===================>]   8.76K  --.-KB/s    in 0s      \n",
            "\n",
            "2022-03-01 20:15:00 (53.6 MB/s) - ‘amino_acid.csv’ saved [8966/8966]\n",
            "\n",
            "--2022-03-01 20:15:00--  https://raw.githubusercontent.com/vikram-sundar/ML4MolEng_Spring2022/master/psets/ps2-MHC/data/ba_train.csv\n",
            "Resolving raw.githubusercontent.com (raw.githubusercontent.com)... 185.199.108.133, 185.199.109.133, 185.199.110.133, ...\n",
            "Connecting to raw.githubusercontent.com (raw.githubusercontent.com)|185.199.108.133|:443... connected.\n",
            "HTTP request sent, awaiting response... 200 OK\n",
            "Length: 46866 (46K) [text/plain]\n",
            "Saving to: ‘ba_train.csv’\n",
            "\n",
            "ba_train.csv        100%[===================>]  45.77K  --.-KB/s    in 0.01s   \n",
            "\n",
            "2022-03-01 20:15:00 (3.19 MB/s) - ‘ba_train.csv’ saved [46866/46866]\n",
            "\n",
            "--2022-03-01 20:15:00--  https://raw.githubusercontent.com/vikram-sundar/ML4MolEng_Spring2022/master/psets/ps2-MHC/data/ba_holdout.csv\n",
            "Resolving raw.githubusercontent.com (raw.githubusercontent.com)... 185.199.108.133, 185.199.109.133, 185.199.110.133, ...\n",
            "Connecting to raw.githubusercontent.com (raw.githubusercontent.com)|185.199.108.133|:443... connected.\n",
            "HTTP request sent, awaiting response... 200 OK\n",
            "Length: 8786 (8.6K) [text/plain]\n",
            "Saving to: ‘ba_holdout.csv’\n",
            "\n",
            "ba_holdout.csv      100%[===================>]   8.58K  --.-KB/s    in 0s      \n",
            "\n",
            "2022-03-01 20:15:00 (53.1 MB/s) - ‘ba_holdout.csv’ saved [8786/8786]\n",
            "\n",
            "--2022-03-01 20:15:00--  https://raw.githubusercontent.com/vikram-sundar/ML4MolEng_Spring2022/master/psets/ps2-MHC/data/el_train.csv\n",
            "Resolving raw.githubusercontent.com (raw.githubusercontent.com)... 185.199.108.133, 185.199.109.133, 185.199.110.133, ...\n",
            "Connecting to raw.githubusercontent.com (raw.githubusercontent.com)|185.199.108.133|:443... connected.\n",
            "HTTP request sent, awaiting response... 200 OK\n",
            "Length: 62362 (61K) [text/plain]\n",
            "Saving to: ‘el_train.csv’\n",
            "\n",
            "el_train.csv        100%[===================>]  60.90K  --.-KB/s    in 0.01s   \n",
            "\n",
            "2022-03-01 20:15:00 (5.27 MB/s) - ‘el_train.csv’ saved [62362/62362]\n",
            "\n",
            "--2022-03-01 20:15:01--  https://raw.githubusercontent.com/vikram-sundar/ML4MolEng_Spring2022/master/psets/ps2-MHC/data/amino_acids.npy\n",
            "Resolving raw.githubusercontent.com (raw.githubusercontent.com)... 185.199.111.133, 185.199.109.133, 185.199.108.133, ...\n",
            "Connecting to raw.githubusercontent.com (raw.githubusercontent.com)|185.199.111.133|:443... connected.\n",
            "HTTP request sent, awaiting response... 200 OK\n",
            "Length: 208 [application/octet-stream]\n",
            "Saving to: ‘amino_acids.npy’\n",
            "\n",
            "amino_acids.npy     100%[===================>]     208  --.-KB/s    in 0s      \n",
            "\n",
            "2022-03-01 20:15:01 (7.63 MB/s) - ‘amino_acids.npy’ saved [208/208]\n",
            "\n"
          ]
        }
      ],
      "source": [
        "! wget https://raw.githubusercontent.com/vikram-sundar/ML4MolEng_Spring2022/master/psets/ps2-MHC/data/amino_acid.csv\n",
        "! wget https://raw.githubusercontent.com/vikram-sundar/ML4MolEng_Spring2022/master/psets/ps2-MHC/data/ba_train.csv\n",
        "! wget https://raw.githubusercontent.com/vikram-sundar/ML4MolEng_Spring2022/master/psets/ps2-MHC/data/ba_holdout.csv\n",
        "! wget https://raw.githubusercontent.com/vikram-sundar/ML4MolEng_Spring2022/master/psets/ps2-MHC/data/el_train.csv\n",
        "! wget https://raw.githubusercontent.com/vikram-sundar/ML4MolEng_Spring2022/master/psets/ps2-MHC/data/amino_acids.npy"
      ]
    },
    {
      "cell_type": "markdown",
      "metadata": {
        "id": "uf_iqlpACDNk"
      },
      "source": [
        "## <center>Problem 1: Modeling Binding Affinity</center>"
      ]
    },
    {
      "cell_type": "markdown",
      "metadata": {
        "id": "Nr5qHetVCDNk"
      },
      "source": [
        "### 1.1 (10 points) Encoding amino acids into feature vectors"
      ]
    },
    {
      "cell_type": "code",
      "execution_count": null,
      "metadata": {
        "id": "rNNnha2wCDNl",
        "colab": {
          "base_uri": "https://localhost:8080/"
        },
        "outputId": "95758f1f-7f09-41f9-9422-082e6e9d6dee"
      },
      "outputs": [
        {
          "output_type": "stream",
          "name": "stdout",
          "text": [
            "(1226, 180)\n",
            "(1226, 1)\n"
          ]
        }
      ],
      "source": [
        "########### Code #############\n",
        "\n",
        "ba_df = pd.read_csv(\"ba_train.csv\") # read data \n",
        "amino_acids = np.load('./amino_acids.npy') # Read all amino acids \n",
        "\n",
        "# Your code to featurize amino acids \n",
        "p1_y = pd.read_csv(\"./ba_train.csv\", header='infer', usecols=[2])\n",
        "p1_y = p1_y.values # get binding afinity\n",
        "\n",
        "p1_X_names = pd.read_csv(\"./ba_train.csv\", header='infer', usecols=[1])\n",
        "p1_X_names = p1_X_names.values #get sequence names\n",
        "\n",
        "\n",
        "lb = preprocessing.LabelBinarizer()\n",
        "lb.fit(amino_acids)\n",
        "\n",
        "aa_feature_vector = np.zeros((len(p1_X_names),20*9)) # feature encodings for all inputs\n",
        "each_residue = np.zeros((9,20)) # feature encoding for one input\n",
        "\n",
        "for i in range(0,len(p1_X_names)):\n",
        "   \n",
        "    if i != 0: # put in first input feature encoding into the whole set\n",
        "        aa_feature_vector[i-1,:] = each_residue.flatten()\n",
        "    \n",
        "    for j in range(0,9): #loop through all letters\n",
        "        each_residue[j,:] = lb.transform([p1_X_names[i][0][j]])[0] #one-hot encoding for a single letter\n",
        "                \n",
        "        if i == len(p1_X_names):\n",
        "            if j == 8:\n",
        "                aa_feature_vector[i,:] = each_residue.flatten()\n",
        "                \n",
        "p1_X_oneHot = aa_feature_vector\n",
        "\n",
        "\n",
        "\n",
        "########### Code #############\n",
        "#are my feature vectors and output vectors the right dimension?\n",
        "print(np.shape(p1_X_oneHot))\n",
        "print(np.shape(p1_y))\n"
      ]
    },
    {
      "cell_type": "markdown",
      "metadata": {
        "id": "YxIVZ83YCDNl"
      },
      "source": [
        "### 1.2 (5 points) Modeling with ridge regression"
      ]
    },
    {
      "cell_type": "code",
      "execution_count": null,
      "metadata": {
        "id": "07WcHy07CDNm",
        "colab": {
          "base_uri": "https://localhost:8080/",
          "height": 407
        },
        "outputId": "9afc6db8-2f3c-4969-874a-f4c76dabfe06"
      },
      "outputs": [
        {
          "output_type": "stream",
          "name": "stdout",
          "text": [
            "Ridge Regression training R^2 score: 0.69\n",
            "Ridge Regression testing R^2 score: 0.47\n"
          ]
        },
        {
          "output_type": "display_data",
          "data": {
            "image/png": "[encoded data removed]",
            "text/plain": [
              "<Figure size 720x360 with 2 Axes>"
            ]
          },
          "metadata": {
            "needs_background": "light"
          }
        }
      ],
      "source": [
        "########### Code #############\n",
        "X_train_oneHot, X_test_oneHot, y_train_oneHot, y_test_oneHot = train_test_split(p1_X_oneHot, p1_y, train_size=0.8, test_size=0.2, random_state=42)\n",
        "\n",
        "clf = Ridge()\n",
        "\n",
        "\n",
        "clf.fit(X_train_oneHot, y_train_oneHot)\n",
        "\n",
        "\n",
        "test_prediction = clf.predict(X_test_oneHot)\n",
        "train_prediction = clf.predict(X_train_oneHot)\n",
        "test_score = clf.score(X_test_oneHot,y_test_oneHot)\n",
        "train_score = clf.score(X_train_oneHot,y_train_oneHot)\n",
        "\n",
        "\n",
        "# Code snippet to generate scatter plot \n",
        "fig, ax = plt.subplots(nrows=1, ncols=2, figsize=(10, 5))\n",
        "ax[0].scatter(train_prediction, y_train_oneHot, label='Train', alpha=0.5)\n",
        "ax[1].scatter(test_prediction, y_test_oneHot, label='Test', alpha=0.5, c='orange')\n",
        "\n",
        "ax[0].set_ylabel(\"True Binding Affinity\")\n",
        "ax[0].set_xlabel(\"Predicted Binding Affinity\")\n",
        "ax[1].set_xlabel(\"Predicted Binding Affinity\")\n",
        "ax[0].set_title('Train')\n",
        "ax[1].set_title('Test')\n",
        "fig.suptitle('Ridge Regression')\n",
        "\n",
        "print(\"Ridge Regression training R^2 score: {:.2f}\".format(train_score))\n",
        "print(\"Ridge Regression testing R^2 score: {:.2f}\".format(test_score))\n",
        "\n",
        "########### Code #############\n",
        "\n",
        "#did I mess up since R^2?"
      ]
    },
    {
      "cell_type": "markdown",
      "metadata": {
        "id": "DM0P7TknCDNn"
      },
      "source": [
        "### 1.3 (10 points) Modeling with a multi-layer perceptron"
      ]
    },
    {
      "cell_type": "code",
      "execution_count": null,
      "metadata": {
        "id": "TWwf-YQRCDNn",
        "colab": {
          "base_uri": "https://localhost:8080/",
          "height": 463
        },
        "outputId": "39637730-66f1-4efa-a450-9e7c1aa70ff5"
      },
      "outputs": [
        {
          "output_type": "stream",
          "name": "stderr",
          "text": [
            "/usr/local/lib/python3.7/dist-packages/sklearn/neural_network/_multilayer_perceptron.py:1599: DataConversionWarning: A column-vector y was passed when a 1d array was expected. Please change the shape of y to (n_samples, ), for example using ravel().\n",
            "  y = column_or_1d(y, warn=True)\n"
          ]
        },
        {
          "output_type": "stream",
          "name": "stdout",
          "text": [
            "MLP Regression training R^2 score: 0.98\n",
            "MLP Regression testing R^2 score: 0.64\n"
          ]
        },
        {
          "output_type": "display_data",
          "data": {
            "image/png": "[encoded data removed]",
            "text/plain": [
              "<Figure size 720x360 with 2 Axes>"
            ]
          },
          "metadata": {
            "needs_background": "light"
          }
        }
      ],
      "source": [
        "########### Code #############\n",
        "\n",
        "\n",
        "regr = MLPRegressor(hidden_layer_sizes = (512, 256, 128), activation = 'relu',\n",
        "                   alpha = 0.08, solver = 'adam', early_stopping = True).fit(X_train_oneHot, y_train_oneHot)\n",
        "\n",
        "test_prediction = regr.predict(X_test_oneHot)\n",
        "train_prediction = regr.predict(X_train_oneHot)\n",
        "test_score = regr.score(X_test_oneHot,y_test_oneHot)\n",
        "train_score = regr.score(X_train_oneHot,y_train_oneHot)\n",
        "\n",
        "\n",
        "# Code snippet to generate scatter plot \n",
        "fig, ax = plt.subplots(nrows=1, ncols=2, figsize=(10, 5))\n",
        "ax[0].scatter(train_prediction, y_train_oneHot, label='Train', alpha=0.5)\n",
        "ax[1].scatter(test_prediction, y_test_oneHot, label='Test', alpha=0.5, c='orange')\n",
        "\n",
        "ax[0].set_ylabel(\"True Binding Affinity\")\n",
        "ax[0].set_xlabel(\"Predicted Binding Affinity\")\n",
        "ax[1].set_xlabel(\"Predicted Binding Affinity\")\n",
        "ax[0].set_title('Train')\n",
        "ax[1].set_title('Test')\n",
        "fig.suptitle('MLP Regression')\n",
        "\n",
        "print(\"MLP Regression training R^2 score: {:.2f}\".format(train_score))\n",
        "print(\"MLP Regression testing R^2 score: {:.2f}\".format(test_score))\n",
        "\n",
        "########### Code #############"
      ]
    },
    {
      "cell_type": "markdown",
      "metadata": {
        "id": "AaTVgpPsCDNn"
      },
      "source": [
        "Calculate the total of number of parameters in your MLP model. What does the input hidden_layers_sizes = (512, 256, 128) mean? "
      ]
    },
    {
      "cell_type": "code",
      "execution_count": null,
      "metadata": {
        "id": "M7Ov_lAqCDNo",
        "colab": {
          "base_uri": "https://localhost:8080/"
        },
        "outputId": "f069d468-161e-4313-c6f5-9377089ab32f"
      },
      "outputs": [
        {
          "output_type": "stream",
          "name": "stdout",
          "text": [
            "23\n"
          ]
        }
      ],
      "source": [
        "########## Answer ############\n",
        "params = regr.get_params()\n",
        "print(len(params))\n",
        "\n",
        "\n",
        "#hidden_layers_sizes = (512, 256, 128) means that there are three hidden layers and each layer has the number of\n",
        "#neurons corresponding to the index in the tuple (0th layer has 512 neurons).\n",
        "########## Answer ############"
      ]
    },
    {
      "cell_type": "markdown",
      "metadata": {
        "id": "5YnZBP2mCDNo"
      },
      "source": [
        "### 1.4 (3 points) Chemical transferability of one-hot representations"
      ]
    },
    {
      "cell_type": "code",
      "execution_count": null,
      "metadata": {
        "id": "UqxcXLaxCDNo",
        "colab": {
          "base_uri": "https://localhost:8080/",
          "height": 407
        },
        "outputId": "7b753a0b-680b-4eda-c233-96c24832b99f"
      },
      "outputs": [
        {
          "output_type": "stream",
          "name": "stdout",
          "text": [
            "MLP validation R^2 score: -0.07\n",
            "Ridge validation R^2 score: 0.01\n"
          ]
        },
        {
          "output_type": "display_data",
          "data": {
            "image/png": "[encoded data removed]",
            "text/plain": [
              "<Figure size 720x360 with 2 Axes>"
            ]
          },
          "metadata": {
            "needs_background": "light"
          }
        }
      ],
      "source": [
        "########### Code #############\n",
        "\n",
        "# Load the holdout dataset which contains amino acids not seen in the training data\n",
        "p1_y_holdout = pd.read_csv(\"./ba_holdout.csv\", header='infer', usecols=[2])\n",
        "p1_y_holdout = p1_y_holdout.values  # get binding afinity\n",
        "\n",
        "p1_X_names = pd.read_csv(\"./ba_holdout.csv\", header='infer', usecols=[1])\n",
        "p1_X_names = p1_X_names.values  #get sequence names\n",
        "\n",
        "lb = preprocessing.LabelBinarizer()\n",
        "lb.fit(amino_acids)\n",
        "\n",
        "aa_feature_vector = np.zeros((len(p1_X_names), 20*9))\n",
        "each_residue = np.zeros((9, 20))\n",
        "\n",
        "for i in range(0, len(p1_X_names)):\n",
        "    if i != 0:\n",
        "        aa_feature_vector[i-1, :] = each_residue.flatten()\n",
        "    for j in range(0, 9):\n",
        "        each_residue[j, :] = lb.transform([p1_X_names[i][0][j]])[0]\n",
        "\n",
        "        if i == len(p1_X_names):\n",
        "            if j == 8:\n",
        "                aa_feature_vector[i, :] = each_residue.flatten()\n",
        "\n",
        "p1_X_oneHot_holdout = aa_feature_vector\n",
        "\n",
        "ridge_holdout_prediction = clf.predict(p1_X_oneHot_holdout)\n",
        "regr_holdout_prediction = regr.predict(p1_X_oneHot_holdout)\n",
        "\n",
        "\n",
        "# Code snippet to generate scatter plot\n",
        "fig, ax = plt.subplots(nrows=1, ncols=2, figsize=(10, 5))\n",
        "ax[0].scatter(ridge_holdout_prediction, p1_y_holdout, label='Ridge validation', alpha=0.5)\n",
        "ax[1].scatter(regr_holdout_prediction, p1_y_holdout, label='MLP validation', alpha=0.5, c='orange')\n",
        "\n",
        "ax[0].set_ylabel(\"True Binding Affinity\")\n",
        "ax[0].set_xlabel(\"Predicted Binding Affinity\")\n",
        "ax[1].set_xlabel(\"Predicted Binding Affinity\")\n",
        "ax[0].set_title('Ridge validation')\n",
        "ax[1].set_title('MLP validation')\n",
        "fig.suptitle('Holdout set validaion')\n",
        "\n",
        "regr_score = regr.score(p1_X_oneHot_holdout, p1_y_holdout)\n",
        "ridge_score = clf.score(p1_X_oneHot_holdout, p1_y_holdout)\n",
        "\n",
        "print(\"MLP validation R^2 score: {:.2f}\".format(regr_score))\n",
        "print(\"Ridge validation R^2 score: {:.2f}\".format(ridge_score))\n",
        "########### Code #############"
      ]
    },
    {
      "cell_type": "markdown",
      "metadata": {
        "id": "_-Q9q2DJCDNo"
      },
      "source": [
        "Comment on your validation results and briefly explain."
      ]
    },
    {
      "cell_type": "code",
      "execution_count": null,
      "metadata": {
        "id": "7MkzX1GTCDNo"
      },
      "outputs": [],
      "source": [
        "########## Answer ############\n",
        "\n",
        "#Ridge validation performed fairly well, since ridge regression fits less coeficients, it is more easily\n",
        "#interpretable. This interpretability may be due to ridge validation picking up some underlying\n",
        "#forces that can drive output labeling\n",
        "\n",
        "#MLP regression has more coefficients than ridge regression. This would make the model more fit to specific\n",
        "#training sets, hence bad performance on another dataset.\n",
        "#the difference is very small though, so the low performance is most likely due to a difficult holdout set\n",
        "########## Answer ############"
      ]
    },
    {
      "cell_type": "markdown",
      "metadata": {
        "id": "urLB9auFCDNp"
      },
      "source": [
        "### 1.5 (5 points) Featurize amino acids with physical descriptors"
      ]
    },
    {
      "cell_type": "code",
      "execution_count": 24,
      "metadata": {
        "id": "GF12GIYuCDNp",
        "colab": {
          "base_uri": "https://localhost:8080/",
          "height": 407
        },
        "outputId": "ebb7da5b-a586-4ae3-8453-a496bf982425"
      },
      "outputs": [
        {
          "output_type": "stream",
          "name": "stdout",
          "text": [
            "Training R^2 score: 0.97\n",
            "Testing R^2 score: 0.63\n"
          ]
        },
        {
          "output_type": "display_data",
          "data": {
            "image/png": "[encoded data removed]",
            "text/plain": [
              "<Figure size 720x360 with 2 Axes>"
            ]
          },
          "metadata": {
            "needs_background": "light"
          }
        }
      ],
      "source": [
        "########### Code #############\n",
        "\n",
        "amino_acid_df = pd.read_csv(\"amino_acid.csv\")\n",
        "amino_acid_df = amino_acid_df.set_index('Amino Acids')\n",
        "\n",
        "p1_X_names = pd.read_csv(\"./ba_train.csv\", header='infer', usecols=[1])\n",
        "p1_X_names = p1_X_names.values #get sequence names\n",
        "\n",
        "p1_y = pd.read_csv(\"./ba_train.csv\", header='infer', usecols=[2])\n",
        "p1_y = p1_y.values # get binding afinity\n",
        "\n",
        "aa_feature_vector = np.zeros((len(p1_X_names),75*9))\n",
        "each_residue = np.zeros((9,75))\n",
        "\n",
        "for i in range(0,len(p1_X_names)):\n",
        "    if i != 0:\n",
        "        aa_feature_vector[i-1,:] = each_residue.flatten()\n",
        "    for j in range(0,9):\n",
        "        each_residue[j,:] = amino_acid_df.loc[[p1_X_names[i][0][j]]].to_numpy()[0]\n",
        "                \n",
        "        if i == len(p1_X_names):\n",
        "            if j == 8:\n",
        "                aa_feature_vector[i,:] = each_residue.flatten()\n",
        "                \n",
        "p1_X = aa_feature_vector\n",
        "\n",
        "X_train, X_test, y_train, y_test = train_test_split(p1_X, np.ravel(p1_y), train_size=0.8, test_size=0.2, random_state=42)\n",
        "scaler = preprocessing.StandardScaler().fit(X_train)\n",
        "X_train = scaler.transform(X_train)\n",
        "X_test = scaler.transform(X_test)\n",
        "\n",
        "regr = MLPRegressor(hidden_layer_sizes = (512, 256, 128), activation = 'relu',\n",
        "                   alpha = 0.08, solver = 'adam', early_stopping = True).fit(X_train, y_train)\n",
        "\n",
        "test_prediction = regr.predict(X_test)\n",
        "train_prediction = regr.predict(X_train)\n",
        "test_score = regr.score(X_test,y_test)\n",
        "train_score = regr.score(X_train,y_train)\n",
        "\n",
        "\n",
        "# Code snippet to generate scatter plot \n",
        "fig, ax = plt.subplots(nrows=1, ncols=2, figsize=(10, 5))\n",
        "ax[0].scatter(train_prediction, y_train, label='Train', alpha=0.5)\n",
        "ax[1].scatter(test_prediction, y_test, label='Test', alpha=0.5, c='orange')\n",
        "\n",
        "ax[0].set_ylabel(\"True Binding Affinity\")\n",
        "ax[0].set_xlabel(\"Predicted Binding Affinity\")\n",
        "ax[1].set_xlabel(\"Predicted Binding Affinity\")\n",
        "ax[0].set_title('Train')\n",
        "ax[1].set_title('Test')\n",
        "fig.suptitle('MLP Regression')\n",
        "\n",
        "\n",
        "\n",
        "\n",
        "\n",
        "\n",
        "print(\"Training R^2 score: {:.2f}\".format(train_score) )\n",
        "print(\"Testing R^2 score: {:.2f}\".format(test_score) )\n",
        "\n",
        "\n",
        "########### Code #############"
      ]
    },
    {
      "cell_type": "markdown",
      "metadata": {
        "id": "rAGLmAuUCDNp"
      },
      "source": [
        "### 1.6 (5 points) Chemical transferability of physical descriptors "
      ]
    },
    {
      "cell_type": "code",
      "execution_count": 25,
      "metadata": {
        "id": "7--ay3qrCDNp",
        "colab": {
          "base_uri": "https://localhost:8080/",
          "height": 390
        },
        "outputId": "87af6b38-8be2-4238-b38e-d53328019e18"
      },
      "outputs": [
        {
          "output_type": "stream",
          "name": "stdout",
          "text": [
            "MLP holdout R^2 score: 0.29\n"
          ]
        },
        {
          "output_type": "display_data",
          "data": {
            "image/png": "[encoded data removed]",
            "text/plain": [
              "<Figure size 720x360 with 1 Axes>"
            ]
          },
          "metadata": {
            "needs_background": "light"
          }
        }
      ],
      "source": [
        "########### Code #############\n",
        "\n",
        "# For the holdout set, encode features with the amino acid descriptor \n",
        "\n",
        "amino_acid_df = pd.read_csv(\"amino_acid.csv\")\n",
        "amino_acid_df = amino_acid_df.set_index('Amino Acids')\n",
        "p1_X_names = pd.read_csv(\"./ba_holdout.csv\", header='infer', usecols=[1])\n",
        "p1_X_names = p1_X_names.values #get sequence names\n",
        "\n",
        "p1_y_holdout = pd.read_csv(\"./ba_holdout.csv\", header='infer', usecols=[2])\n",
        "p1_y_holdout = p1_y_holdout.values # get binding afinity\n",
        "\n",
        "aa_feature_vector = np.zeros((len(p1_X_names),75*9))\n",
        "each_residue = np.zeros((9,75))\n",
        "\n",
        "for i in range(0,len(p1_X_names)):\n",
        "    if i != 0:\n",
        "        aa_feature_vector[i-1,:] = each_residue.flatten()\n",
        "    for j in range(0,9):\n",
        "        each_residue[j,:] = amino_acid_df.loc[[p1_X_names[i][0][j]]].to_numpy()[0]\n",
        "                \n",
        "        if i == len(p1_X_names):\n",
        "            if j == 8:\n",
        "                aa_feature_vector[i,:] = each_residue.flatten()\n",
        "                \n",
        "p1_X = scaler.transform(aa_feature_vector)\n",
        "\n",
        "regr_holdout_prediction = regr.predict(p1_X)\n",
        "\n",
        "\n",
        "# Code snippet to generate scatter plot \n",
        "fig, ax = plt.subplots(nrows=1, ncols=1, figsize=(10, 5))\n",
        "ax.scatter(ridge_holdout_prediction, p1_y_holdout, label='Ridge validation', alpha=0.5)\n",
        "\n",
        "\n",
        "ax.set_ylabel(\"True Binding Affinity\")\n",
        "ax.set_xlabel(\"Predicted Binding Affinity\")\n",
        "ax.set_title('MLP validation')\n",
        "fig.suptitle('Holdout set validaion')\n",
        "\n",
        "regr_score = regr.score(p1_X,p1_y_holdout)\n",
        "\n",
        "print(\"MLP holdout R^2 score: {:.2f}\".format(regr_score))\n",
        "\n",
        "########### Code #############"
      ]
    },
    {
      "cell_type": "markdown",
      "metadata": {
        "id": "vjrr7UzRCDNp"
      },
      "source": [
        "Briefly comment on your validation performance and explain why."
      ]
    },
    {
      "cell_type": "code",
      "execution_count": null,
      "metadata": {
        "id": "RkfRuwncCDNq"
      },
      "outputs": [],
      "source": [
        "########## Answer ############\n",
        "\n",
        "#MLP prediction of inputs with physically encoded features was notably better than that\n",
        "#of one-hot features because one-hot encoding does not apply well to \n",
        "#features that are not represented in the training set\n",
        "\n",
        "\n",
        "\n",
        "\n",
        "########## Answer ############"
      ]
    },
    {
      "cell_type": "markdown",
      "metadata": {
        "id": "ygSXYq7iCDNq"
      },
      "source": [
        "## <center>Problem 2: Hyperparameter Tuning and Modeling Eluted Ligand Data</center>"
      ]
    },
    {
      "cell_type": "markdown",
      "metadata": {
        "id": "4lpfar1_CDNq"
      },
      "source": [
        "### 2.1 (15 points) Optimize neural network architectures with HyperOpt"
      ]
    },
    {
      "cell_type": "code",
      "execution_count": null,
      "metadata": {
        "id": "QyR36aPBCDNq",
        "colab": {
          "base_uri": "https://localhost:8080/"
        },
        "outputId": "199589e1-233b-4710-8c0a-7c70b2f4c991"
      },
      "outputs": [
        {
          "metadata": {
            "tags": null
          },
          "name": "stdout",
          "output_type": "stream",
          "text": [
            "Start trials\n",
            "\r  0%|          | 0/40 [00:00<?, ?it/s, best loss: ?]"
          ]
        },
        {
          "metadata": {
            "tags": null
          },
          "name": "stderr",
          "output_type": "stream",
          "text": [
            "/usr/local/lib/python3.7/dist-packages/sklearn/neural_network/_multilayer_perceptron.py:696: ConvergenceWarning: Stochastic Optimizer: Maximum iterations (200) reached and the optimization hasn't converged yet.\n",
            "  ConvergenceWarning,\n"
          ]
        },
        {
          "metadata": {
            "tags": null
          },
          "name": "stdout",
          "output_type": "stream",
          "text": [
            "\r  2%|▎         | 1/40 [00:57<37:41, 57.99s/it, best loss: -0.4111238704561269]"
          ]
        },
        {
          "metadata": {
            "tags": null
          },
          "name": "stderr",
          "output_type": "stream",
          "text": [
            "/usr/local/lib/python3.7/dist-packages/sklearn/neural_network/_multilayer_perceptron.py:696: ConvergenceWarning: Stochastic Optimizer: Maximum iterations (200) reached and the optimization hasn't converged yet.\n",
            "  ConvergenceWarning,\n",
            "\n"
          ]
        },
        {
          "metadata": {
            "tags": null
          },
          "name": "stdout",
          "output_type": "stream",
          "text": [
            " 10%|█         | 4/40 [04:04<34:38, 57.73s/it, best loss: -0.4111238704561269]"
          ]
        },
        {
          "metadata": {
            "tags": null
          },
          "name": "stderr",
          "output_type": "stream",
          "text": [
            "/usr/local/lib/python3.7/dist-packages/sklearn/neural_network/_multilayer_perceptron.py:696: ConvergenceWarning: Stochastic Optimizer: Maximum iterations (200) reached and the optimization hasn't converged yet.\n",
            "  ConvergenceWarning,\n",
            "\n",
            "/usr/local/lib/python3.7/dist-packages/sklearn/neural_network/_multilayer_perceptron.py:696: ConvergenceWarning: Stochastic Optimizer: Maximum iterations (200) reached and the optimization hasn't converged yet.\n",
            "  ConvergenceWarning,\n",
            "\n",
            "/usr/local/lib/python3.7/dist-packages/sklearn/neural_network/_multilayer_perceptron.py:696: ConvergenceWarning: Stochastic Optimizer: Maximum iterations (200) reached and the optimization hasn't converged yet.\n",
            "  ConvergenceWarning,\n",
            "\n",
            "/usr/local/lib/python3.7/dist-packages/sklearn/neural_network/_multilayer_perceptron.py:696: ConvergenceWarning: Stochastic Optimizer: Maximum iterations (200) reached and the optimization hasn't converged yet.\n",
            "  ConvergenceWarning,\n",
            "\n",
            "/usr/local/lib/python3.7/dist-packages/sklearn/neural_network/_multilayer_perceptron.py:696: ConvergenceWarning: Stochastic Optimizer: Maximum iterations (200) reached and the optimization hasn't converged yet.\n",
            "  ConvergenceWarning,\n",
            "\n"
          ]
        },
        {
          "metadata": {
            "tags": null
          },
          "name": "stdout",
          "output_type": "stream",
          "text": [
            "\r 12%|█▎        | 5/40 [05:45<42:55, 73.57s/it, best loss: -0.4111238704561269]"
          ]
        },
        {
          "metadata": {
            "tags": null
          },
          "name": "stderr",
          "output_type": "stream",
          "text": [
            "/usr/local/lib/python3.7/dist-packages/sklearn/neural_network/_multilayer_perceptron.py:696: ConvergenceWarning: Stochastic Optimizer: Maximum iterations (200) reached and the optimization hasn't converged yet.\n",
            "  ConvergenceWarning,\n",
            "\n",
            "/usr/local/lib/python3.7/dist-packages/sklearn/neural_network/_multilayer_perceptron.py:696: ConvergenceWarning: Stochastic Optimizer: Maximum iterations (200) reached and the optimization hasn't converged yet.\n",
            "  ConvergenceWarning,\n",
            "\n",
            "/usr/local/lib/python3.7/dist-packages/sklearn/neural_network/_multilayer_perceptron.py:696: ConvergenceWarning: Stochastic Optimizer: Maximum iterations (200) reached and the optimization hasn't converged yet.\n",
            "  ConvergenceWarning,\n",
            "\n"
          ]
        },
        {
          "metadata": {
            "tags": null
          },
          "name": "stdout",
          "output_type": "stream",
          "text": [
            "\r 15%|█▌        | 6/40 [07:13<44:22, 78.29s/it, best loss: -0.415365867269609] "
          ]
        },
        {
          "metadata": {
            "tags": null
          },
          "name": "stderr",
          "output_type": "stream",
          "text": [
            "/usr/local/lib/python3.7/dist-packages/sklearn/neural_network/_multilayer_perceptron.py:696: ConvergenceWarning: Stochastic Optimizer: Maximum iterations (200) reached and the optimization hasn't converged yet.\n",
            "  ConvergenceWarning,\n",
            "\n",
            "/usr/local/lib/python3.7/dist-packages/sklearn/neural_network/_multilayer_perceptron.py:696: ConvergenceWarning: Stochastic Optimizer: Maximum iterations (200) reached and the optimization hasn't converged yet.\n",
            "  ConvergenceWarning,\n",
            "\n",
            "/usr/local/lib/python3.7/dist-packages/sklearn/neural_network/_multilayer_perceptron.py:696: ConvergenceWarning: Stochastic Optimizer: Maximum iterations (200) reached and the optimization hasn't converged yet.\n",
            "  ConvergenceWarning,\n",
            "\n",
            "/usr/local/lib/python3.7/dist-packages/sklearn/neural_network/_multilayer_perceptron.py:696: ConvergenceWarning: Stochastic Optimizer: Maximum iterations (200) reached and the optimization hasn't converged yet.\n",
            "  ConvergenceWarning,\n",
            "\n",
            "/usr/local/lib/python3.7/dist-packages/sklearn/neural_network/_multilayer_perceptron.py:696: ConvergenceWarning: Stochastic Optimizer: Maximum iterations (200) reached and the optimization hasn't converged yet.\n",
            "  ConvergenceWarning,\n",
            "\n"
          ]
        },
        {
          "metadata": {
            "tags": null
          },
          "name": "stdout",
          "output_type": "stream",
          "text": [
            "\r 18%|█▊        | 7/40 [10:28<1:04:01, 116.39s/it, best loss: -0.415365867269609]"
          ]
        },
        {
          "metadata": {
            "tags": null
          },
          "name": "stderr",
          "output_type": "stream",
          "text": [
            "/usr/local/lib/python3.7/dist-packages/sklearn/neural_network/_multilayer_perceptron.py:696: ConvergenceWarning: Stochastic Optimizer: Maximum iterations (200) reached and the optimization hasn't converged yet.\n",
            "  ConvergenceWarning,\n",
            "\n"
          ]
        },
        {
          "metadata": {
            "tags": null
          },
          "name": "stdout",
          "output_type": "stream",
          "text": [
            "\r 20%|██        | 8/40 [11:05<48:42, 91.34s/it, best loss: -0.415365867269609]   "
          ]
        },
        {
          "metadata": {
            "tags": null
          },
          "name": "stderr",
          "output_type": "stream",
          "text": [
            "/usr/local/lib/python3.7/dist-packages/sklearn/neural_network/_multilayer_perceptron.py:696: ConvergenceWarning: Stochastic Optimizer: Maximum iterations (200) reached and the optimization hasn't converged yet.\n",
            "  ConvergenceWarning,\n",
            "\n",
            "/usr/local/lib/python3.7/dist-packages/sklearn/neural_network/_multilayer_perceptron.py:696: ConvergenceWarning: Stochastic Optimizer: Maximum iterations (200) reached and the optimization hasn't converged yet.\n",
            "  ConvergenceWarning,\n",
            "\n",
            "/usr/local/lib/python3.7/dist-packages/sklearn/neural_network/_multilayer_perceptron.py:696: ConvergenceWarning: Stochastic Optimizer: Maximum iterations (200) reached and the optimization hasn't converged yet.\n",
            "  ConvergenceWarning,\n",
            "\n",
            "/usr/local/lib/python3.7/dist-packages/sklearn/neural_network/_multilayer_perceptron.py:696: ConvergenceWarning: Stochastic Optimizer: Maximum iterations (200) reached and the optimization hasn't converged yet.\n",
            "  ConvergenceWarning,\n",
            "\n",
            "/usr/local/lib/python3.7/dist-packages/sklearn/neural_network/_multilayer_perceptron.py:696: ConvergenceWarning: Stochastic Optimizer: Maximum iterations (200) reached and the optimization hasn't converged yet.\n",
            "  ConvergenceWarning,\n",
            "\n",
            "/usr/local/lib/python3.7/dist-packages/sklearn/neural_network/_multilayer_perceptron.py:696: ConvergenceWarning: Stochastic Optimizer: Maximum iterations (200) reached and the optimization hasn't converged yet.\n",
            "  ConvergenceWarning,\n",
            "\n"
          ]
        },
        {
          "metadata": {
            "tags": null
          },
          "name": "stdout",
          "output_type": "stream",
          "text": [
            "\r 22%|██▎       | 9/40 [14:16<1:03:13, 122.37s/it, best loss: -0.415365867269609]"
          ]
        },
        {
          "metadata": {
            "tags": null
          },
          "name": "stderr",
          "output_type": "stream",
          "text": [
            "/usr/local/lib/python3.7/dist-packages/sklearn/neural_network/_multilayer_perceptron.py:696: ConvergenceWarning: Stochastic Optimizer: Maximum iterations (200) reached and the optimization hasn't converged yet.\n",
            "  ConvergenceWarning,\n",
            "\n"
          ]
        },
        {
          "metadata": {
            "tags": null
          },
          "name": "stdout",
          "output_type": "stream",
          "text": [
            "\r 25%|██▌       | 10/40 [15:11<50:46, 101.55s/it, best loss: -0.5039573207930557]"
          ]
        },
        {
          "metadata": {
            "tags": null
          },
          "name": "stderr",
          "output_type": "stream",
          "text": [
            "/usr/local/lib/python3.7/dist-packages/sklearn/neural_network/_multilayer_perceptron.py:696: ConvergenceWarning: Stochastic Optimizer: Maximum iterations (200) reached and the optimization hasn't converged yet.\n",
            "  ConvergenceWarning,\n",
            "\n",
            "/usr/local/lib/python3.7/dist-packages/sklearn/neural_network/_multilayer_perceptron.py:696: ConvergenceWarning: Stochastic Optimizer: Maximum iterations (200) reached and the optimization hasn't converged yet.\n",
            "  ConvergenceWarning,\n",
            "\n",
            "/usr/local/lib/python3.7/dist-packages/sklearn/neural_network/_multilayer_perceptron.py:696: ConvergenceWarning: Stochastic Optimizer: Maximum iterations (200) reached and the optimization hasn't converged yet.\n",
            "  ConvergenceWarning,\n",
            "\n",
            "/usr/local/lib/python3.7/dist-packages/sklearn/neural_network/_multilayer_perceptron.py:696: ConvergenceWarning: Stochastic Optimizer: Maximum iterations (200) reached and the optimization hasn't converged yet.\n",
            "  ConvergenceWarning,\n",
            "\n"
          ]
        },
        {
          "metadata": {
            "tags": null
          },
          "name": "stdout",
          "output_type": "stream",
          "text": [
            "\r 28%|██▊       | 11/40 [16:01<41:25, 85.71s/it, best loss: -0.5039573207930557] "
          ]
        },
        {
          "metadata": {
            "tags": null
          },
          "name": "stderr",
          "output_type": "stream",
          "text": [
            "/usr/local/lib/python3.7/dist-packages/sklearn/neural_network/_multilayer_perceptron.py:696: ConvergenceWarning: Stochastic Optimizer: Maximum iterations (200) reached and the optimization hasn't converged yet.\n",
            "  ConvergenceWarning,\n",
            "\n",
            "/usr/local/lib/python3.7/dist-packages/sklearn/neural_network/_multilayer_perceptron.py:696: ConvergenceWarning: Stochastic Optimizer: Maximum iterations (200) reached and the optimization hasn't converged yet.\n",
            "  ConvergenceWarning,\n",
            "\n",
            "/usr/local/lib/python3.7/dist-packages/sklearn/neural_network/_multilayer_perceptron.py:696: ConvergenceWarning: Stochastic Optimizer: Maximum iterations (200) reached and the optimization hasn't converged yet.\n",
            "  ConvergenceWarning,\n",
            "\n",
            "/usr/local/lib/python3.7/dist-packages/sklearn/neural_network/_multilayer_perceptron.py:696: ConvergenceWarning: Stochastic Optimizer: Maximum iterations (200) reached and the optimization hasn't converged yet.\n",
            "  ConvergenceWarning,\n",
            "\n",
            "/usr/local/lib/python3.7/dist-packages/sklearn/neural_network/_multilayer_perceptron.py:696: ConvergenceWarning: Stochastic Optimizer: Maximum iterations (200) reached and the optimization hasn't converged yet.\n",
            "  ConvergenceWarning,\n",
            "\n",
            "/usr/local/lib/python3.7/dist-packages/sklearn/neural_network/_multilayer_perceptron.py:696: ConvergenceWarning: Stochastic Optimizer: Maximum iterations (200) reached and the optimization hasn't converged yet.\n",
            "  ConvergenceWarning,\n",
            "\n"
          ]
        },
        {
          "metadata": {
            "tags": null
          },
          "name": "stdout",
          "output_type": "stream",
          "text": [
            "\r 30%|███       | 12/40 [18:01<44:53, 96.19s/it, best loss: -0.5039573207930557]"
          ]
        },
        {
          "metadata": {
            "tags": null
          },
          "name": "stderr",
          "output_type": "stream",
          "text": [
            "/usr/local/lib/python3.7/dist-packages/sklearn/neural_network/_multilayer_perceptron.py:696: ConvergenceWarning: Stochastic Optimizer: Maximum iterations (200) reached and the optimization hasn't converged yet.\n",
            "  ConvergenceWarning,\n",
            "\n"
          ]
        },
        {
          "metadata": {
            "tags": null
          },
          "name": "stdout",
          "output_type": "stream",
          "text": [
            " 35%|███▌      | 14/40 [20:37<37:23, 86.28s/it, best loss: -0.5525051421185558]"
          ]
        },
        {
          "metadata": {
            "tags": null
          },
          "name": "stderr",
          "output_type": "stream",
          "text": [
            "/usr/local/lib/python3.7/dist-packages/sklearn/neural_network/_multilayer_perceptron.py:696: ConvergenceWarning: Stochastic Optimizer: Maximum iterations (200) reached and the optimization hasn't converged yet.\n",
            "  ConvergenceWarning,\n",
            "\n",
            "/usr/local/lib/python3.7/dist-packages/sklearn/neural_network/_multilayer_perceptron.py:696: ConvergenceWarning: Stochastic Optimizer: Maximum iterations (200) reached and the optimization hasn't converged yet.\n",
            "  ConvergenceWarning,\n",
            "\n",
            "/usr/local/lib/python3.7/dist-packages/sklearn/neural_network/_multilayer_perceptron.py:696: ConvergenceWarning: Stochastic Optimizer: Maximum iterations (200) reached and the optimization hasn't converged yet.\n",
            "  ConvergenceWarning,\n",
            "\n"
          ]
        },
        {
          "metadata": {
            "tags": null
          },
          "name": "stdout",
          "output_type": "stream",
          "text": [
            "\r 38%|███▊      | 15/40 [21:55<34:55, 83.83s/it, best loss: -0.5525051421185558]"
          ]
        },
        {
          "metadata": {
            "tags": null
          },
          "name": "stderr",
          "output_type": "stream",
          "text": [
            "/usr/local/lib/python3.7/dist-packages/sklearn/neural_network/_multilayer_perceptron.py:696: ConvergenceWarning: Stochastic Optimizer: Maximum iterations (200) reached and the optimization hasn't converged yet.\n",
            "  ConvergenceWarning,\n",
            "\n",
            "/usr/local/lib/python3.7/dist-packages/sklearn/neural_network/_multilayer_perceptron.py:696: ConvergenceWarning: Stochastic Optimizer: Maximum iterations (200) reached and the optimization hasn't converged yet.\n",
            "  ConvergenceWarning,\n",
            "\n",
            "/usr/local/lib/python3.7/dist-packages/sklearn/neural_network/_multilayer_perceptron.py:696: ConvergenceWarning: Stochastic Optimizer: Maximum iterations (200) reached and the optimization hasn't converged yet.\n",
            "  ConvergenceWarning,\n",
            "\n",
            "/usr/local/lib/python3.7/dist-packages/sklearn/neural_network/_multilayer_perceptron.py:696: ConvergenceWarning: Stochastic Optimizer: Maximum iterations (200) reached and the optimization hasn't converged yet.\n",
            "  ConvergenceWarning,\n",
            "\n",
            "/usr/local/lib/python3.7/dist-packages/sklearn/neural_network/_multilayer_perceptron.py:696: ConvergenceWarning: Stochastic Optimizer: Maximum iterations (200) reached and the optimization hasn't converged yet.\n",
            "  ConvergenceWarning,\n",
            "\n"
          ]
        },
        {
          "metadata": {
            "tags": null
          },
          "name": "stdout",
          "output_type": "stream",
          "text": [
            "\r 40%|████      | 16/40 [25:37<50:08, 125.37s/it, best loss: -0.5525051421185558]"
          ]
        },
        {
          "metadata": {
            "tags": null
          },
          "name": "stderr",
          "output_type": "stream",
          "text": [
            "/usr/local/lib/python3.7/dist-packages/sklearn/neural_network/_multilayer_perceptron.py:696: ConvergenceWarning: Stochastic Optimizer: Maximum iterations (200) reached and the optimization hasn't converged yet.\n",
            "  ConvergenceWarning,\n",
            "\n",
            "/usr/local/lib/python3.7/dist-packages/sklearn/neural_network/_multilayer_perceptron.py:696: ConvergenceWarning: Stochastic Optimizer: Maximum iterations (200) reached and the optimization hasn't converged yet.\n",
            "  ConvergenceWarning,\n",
            "\n",
            "/usr/local/lib/python3.7/dist-packages/sklearn/neural_network/_multilayer_perceptron.py:696: ConvergenceWarning: Stochastic Optimizer: Maximum iterations (200) reached and the optimization hasn't converged yet.\n",
            "  ConvergenceWarning,\n",
            "\n",
            "/usr/local/lib/python3.7/dist-packages/sklearn/neural_network/_multilayer_perceptron.py:696: ConvergenceWarning: Stochastic Optimizer: Maximum iterations (200) reached and the optimization hasn't converged yet.\n",
            "  ConvergenceWarning,\n",
            "\n",
            "/usr/local/lib/python3.7/dist-packages/sklearn/neural_network/_multilayer_perceptron.py:696: ConvergenceWarning: Stochastic Optimizer: Maximum iterations (200) reached and the optimization hasn't converged yet.\n",
            "  ConvergenceWarning,\n",
            "\n"
          ]
        },
        {
          "metadata": {
            "tags": null
          },
          "name": "stdout",
          "output_type": "stream",
          "text": [
            "\r 42%|████▎     | 17/40 [29:09<58:02, 151.40s/it, best loss: -0.5525051421185558]"
          ]
        },
        {
          "metadata": {
            "tags": null
          },
          "name": "stderr",
          "output_type": "stream",
          "text": [
            "/usr/local/lib/python3.7/dist-packages/sklearn/neural_network/_multilayer_perceptron.py:696: ConvergenceWarning: Stochastic Optimizer: Maximum iterations (200) reached and the optimization hasn't converged yet.\n",
            "  ConvergenceWarning,\n",
            "\n",
            "/usr/local/lib/python3.7/dist-packages/sklearn/neural_network/_multilayer_perceptron.py:696: ConvergenceWarning: Stochastic Optimizer: Maximum iterations (200) reached and the optimization hasn't converged yet.\n",
            "  ConvergenceWarning,\n",
            "\n",
            "/usr/local/lib/python3.7/dist-packages/sklearn/neural_network/_multilayer_perceptron.py:696: ConvergenceWarning: Stochastic Optimizer: Maximum iterations (200) reached and the optimization hasn't converged yet.\n",
            "  ConvergenceWarning,\n",
            "\n",
            "/usr/local/lib/python3.7/dist-packages/sklearn/neural_network/_multilayer_perceptron.py:696: ConvergenceWarning: Stochastic Optimizer: Maximum iterations (200) reached and the optimization hasn't converged yet.\n",
            "  ConvergenceWarning,\n",
            "\n",
            "/usr/local/lib/python3.7/dist-packages/sklearn/neural_network/_multilayer_perceptron.py:696: ConvergenceWarning: Stochastic Optimizer: Maximum iterations (200) reached and the optimization hasn't converged yet.\n",
            "  ConvergenceWarning,\n",
            "\n"
          ]
        },
        {
          "metadata": {
            "tags": null
          },
          "name": "stdout",
          "output_type": "stream",
          "text": [
            "\r 45%|████▌     | 18/40 [32:33<1:01:20, 167.27s/it, best loss: -0.5525051421185558]"
          ]
        },
        {
          "metadata": {
            "tags": null
          },
          "name": "stderr",
          "output_type": "stream",
          "text": [
            "/usr/local/lib/python3.7/dist-packages/sklearn/neural_network/_multilayer_perceptron.py:696: ConvergenceWarning: Stochastic Optimizer: Maximum iterations (200) reached and the optimization hasn't converged yet.\n",
            "  ConvergenceWarning,\n",
            "\n",
            "/usr/local/lib/python3.7/dist-packages/sklearn/neural_network/_multilayer_perceptron.py:696: ConvergenceWarning: Stochastic Optimizer: Maximum iterations (200) reached and the optimization hasn't converged yet.\n",
            "  ConvergenceWarning,\n",
            "\n"
          ]
        },
        {
          "metadata": {
            "tags": null
          },
          "name": "stdout",
          "output_type": "stream",
          "text": [
            " 88%|████████▊ | 35/40 [47:16<03:32, 42.56s/it, best loss: -0.5742065195168493]"
          ]
        },
        {
          "metadata": {
            "tags": null
          },
          "name": "stderr",
          "output_type": "stream",
          "text": [
            "/usr/local/lib/python3.7/dist-packages/sklearn/neural_network/_multilayer_perceptron.py:696: ConvergenceWarning: Stochastic Optimizer: Maximum iterations (200) reached and the optimization hasn't converged yet.\n",
            "  ConvergenceWarning,\n",
            "\n",
            "/usr/local/lib/python3.7/dist-packages/sklearn/neural_network/_multilayer_perceptron.py:696: ConvergenceWarning: Stochastic Optimizer: Maximum iterations (200) reached and the optimization hasn't converged yet.\n",
            "  ConvergenceWarning,\n",
            "\n",
            "/usr/local/lib/python3.7/dist-packages/sklearn/neural_network/_multilayer_perceptron.py:696: ConvergenceWarning: Stochastic Optimizer: Maximum iterations (200) reached and the optimization hasn't converged yet.\n",
            "  ConvergenceWarning,\n",
            "\n",
            "/usr/local/lib/python3.7/dist-packages/sklearn/neural_network/_multilayer_perceptron.py:696: ConvergenceWarning: Stochastic Optimizer: Maximum iterations (200) reached and the optimization hasn't converged yet.\n",
            "  ConvergenceWarning,\n",
            "\n",
            "/usr/local/lib/python3.7/dist-packages/sklearn/neural_network/_multilayer_perceptron.py:696: ConvergenceWarning: Stochastic Optimizer: Maximum iterations (200) reached and the optimization hasn't converged yet.\n",
            "  ConvergenceWarning,\n",
            "\n"
          ]
        },
        {
          "metadata": {
            "tags": null
          },
          "name": "stdout",
          "output_type": "stream",
          "text": [
            "\r 90%|█████████ | 36/40 [48:30<03:28, 52.17s/it, best loss: -0.5742065195168493]"
          ]
        },
        {
          "metadata": {
            "tags": null
          },
          "name": "stderr",
          "output_type": "stream",
          "text": [
            "/usr/local/lib/python3.7/dist-packages/sklearn/neural_network/_multilayer_perceptron.py:696: ConvergenceWarning: Stochastic Optimizer: Maximum iterations (200) reached and the optimization hasn't converged yet.\n",
            "  ConvergenceWarning,\n",
            "\n"
          ]
        },
        {
          "metadata": {
            "tags": null
          },
          "name": "stdout",
          "output_type": "stream",
          "text": [
            "\r 92%|█████████▎| 37/40 [49:21<02:35, 51.70s/it, best loss: -0.5742065195168493]"
          ]
        },
        {
          "output_type": "stream",
          "name": "stderr",
          "text": [
            "/usr/local/lib/python3.7/dist-packages/sklearn/neural_network/_multilayer_perceptron.py:696: ConvergenceWarning: Stochastic Optimizer: Maximum iterations (200) reached and the optimization hasn't converged yet.\n",
            "  ConvergenceWarning,\n",
            "\n",
            "/usr/local/lib/python3.7/dist-packages/sklearn/neural_network/_multilayer_perceptron.py:696: ConvergenceWarning: Stochastic Optimizer: Maximum iterations (200) reached and the optimization hasn't converged yet.\n",
            "  ConvergenceWarning,\n",
            "\n",
            "/usr/local/lib/python3.7/dist-packages/sklearn/neural_network/_multilayer_perceptron.py:696: ConvergenceWarning: Stochastic Optimizer: Maximum iterations (200) reached and the optimization hasn't converged yet.\n",
            "  ConvergenceWarning,\n",
            "\n",
            "/usr/local/lib/python3.7/dist-packages/sklearn/neural_network/_multilayer_perceptron.py:696: ConvergenceWarning: Stochastic Optimizer: Maximum iterations (200) reached and the optimization hasn't converged yet.\n",
            "  ConvergenceWarning,\n",
            "\n",
            "/usr/local/lib/python3.7/dist-packages/sklearn/neural_network/_multilayer_perceptron.py:696: ConvergenceWarning: Stochastic Optimizer: Maximum iterations (200) reached and the optimization hasn't converged yet.\n",
            "  ConvergenceWarning,\n",
            "\n"
          ]
        },
        {
          "output_type": "stream",
          "name": "stdout",
          "text": [
            "\r 95%|█████████▌| 38/40 [50:57<02:10, 65.07s/it, best loss: -0.5742065195168493]"
          ]
        },
        {
          "output_type": "stream",
          "name": "stderr",
          "text": [
            "/usr/local/lib/python3.7/dist-packages/sklearn/neural_network/_multilayer_perceptron.py:696: ConvergenceWarning: Stochastic Optimizer: Maximum iterations (200) reached and the optimization hasn't converged yet.\n",
            "  ConvergenceWarning,\n",
            "\n"
          ]
        },
        {
          "output_type": "stream",
          "name": "stdout",
          "text": [
            "100%|██████████| 40/40 [52:04<00:00, 78.12s/it, best loss: -0.5742065195168493]\n",
            "Best parameter set: {'activation': 'relu', 'alpha': 0.64, 'hidden_layer_sizes': (512, 256, 128), 'solver': 'adam'}\n",
            "Best loss from CV 0.57\n"
          ]
        }
      ],
      "source": [
        "########### Code #############\n",
        "\n",
        "from hyperopt import hp\n",
        "from hyperopt import fmin, tpe, space_eval, Trials\n",
        "from sklearn.model_selection import cross_val_score\n",
        "\n",
        "\n",
        "# Stack train and holdout set together\n",
        "\n",
        "p2_X = np.vstack((p1_X_oneHot_holdout, X_train_oneHot))\n",
        "p2_y = np.vstack((p1_y_holdout, y_train_oneHot))\n",
        "\n",
        "def hyperoptoutput2param(best):\n",
        "    \n",
        "    '''Change hyperopt output to dictionary with values '''\n",
        "    \n",
        "    for key in best.keys():\n",
        "        if key in hyper_dict.keys():\n",
        "            best[key] = hyper_dict[key][ best[key] ] \n",
        "            \n",
        "    return best\n",
        "\n",
        "# Define a dictionary for each parameter range \n",
        "\n",
        "\n",
        "hyper_dict = {\n",
        "    \"hidden_layer_sizes\": [(512, 256, 128), (256, 128, 64), (512, 512, 256), (256, 256, 256)],\n",
        "    \"solver\": ['sgd', 'adam'],\n",
        "    \"activation\": ['relu', 'tanh'],\n",
        "    \"alpha\":[0.08, 0.16, 0.32, 0.64]\n",
        "}\n",
        "\n",
        "MLPRegressor(hidden_layer_sizes = (512, 256, 128), activation = 'relu',\n",
        "                   alpha = 0.08, solver = 'adam', early_stopping = False).fit(X_train, y_train)\n",
        "\n",
        "parameter_space =  { \"hidden_layer_sizes\": hp.choice(\"hidden_layer_sizes\", hyper_dict['hidden_layer_sizes']),\n",
        "            \"solver\": hp.choice(\"solver\", hyper_dict['solver']), \n",
        "            \"activation\": hp.choice(\"activation\", hyper_dict['activation']), \n",
        "            \"alpha\": hp.choice(\"alpha\", hyper_dict['alpha'])\n",
        "                    }\n",
        "\n",
        "# Evaluation function \n",
        "# args should be a dict, with keys for number of hidden layers, optimizer, activation, and alpha\n",
        "def model_eval(args):\n",
        "    \n",
        "    '''Take suggested arguments and perform model evaluation'''\n",
        "\n",
        "    # your code here to train MLPRegressors and to run CV score on the training data \n",
        "    regr = MLPRegressor(**args, early_stopping = False).fit(p2_X, np.ravel(p2_y))\n",
        "    cv_score = np.mean(cross_val_score(regr, p2_X, np.ravel(p2_y), cv = 5))\n",
        "    \n",
        "    # return the negative of the CV score to ensure we maximize R^2 by minimizing the loss\n",
        "    return -cv_score\n",
        "\n",
        "print(\"Start trials\") \n",
        "\n",
        "trials = Trials()\n",
        "best = fmin(model_eval, parameter_space, algo=tpe.suggest, max_evals=40, trials=trials) # this will take a while to run \n",
        "best = hyperoptoutput2param(best)\n",
        "\n",
        "print(\"Best parameter set: {}\".format(best))\n",
        "print(\"Best loss from CV {:.2f}\".format(-trials.best_trial['result']['loss']))\n",
        "\n",
        "########### Code #############"
      ]
    },
    {
      "cell_type": "markdown",
      "metadata": {
        "id": "uhKQNteKCDNq"
      },
      "source": [
        "Train a MLP with the hyperparameters obtained."
      ]
    },
    {
      "cell_type": "code",
      "execution_count": null,
      "metadata": {
        "id": "D8x_KqhMCDNq",
        "colab": {
          "base_uri": "https://localhost:8080/"
        },
        "outputId": "90880d4c-9f5d-476d-ab3e-546fbfcbe812"
      },
      "outputs": [
        {
          "output_type": "stream",
          "name": "stdout",
          "text": [
            "0.5833794044209392\n"
          ]
        }
      ],
      "source": [
        "########### Code #############\n",
        "p2_X = np.vstack((p1_X_oneHot_holdout, X_train_oneHot))\n",
        "p2_y = np.vstack((p1_y_holdout, y_train_oneHot))\n",
        "\n",
        "p2_X_test = X_test_oneHot\n",
        "p2_y_test = y_test_oneHot\n",
        "\n",
        "regr = MLPRegressor(activation = 'relu', alpha = 0.64, hidden_layer_sizes = (512,256,128), solver = 'adam', early_stopping = False).fit(p2_X, np.ravel(p2_y))\n",
        "test_score = regr.score(p2_X_test, p2_y_test)\n",
        "print(test_score)\n",
        "\n",
        "########### Code #############"
      ]
    },
    {
      "cell_type": "markdown",
      "metadata": {
        "id": "OozrhCwnCDNq"
      },
      "source": [
        "Report your parameter set. Have your predictions improved? "
      ]
    },
    {
      "cell_type": "code",
      "source": [
        "params = regr.get_params()\n",
        "print(params)"
      ],
      "metadata": {
        "colab": {
          "base_uri": "https://localhost:8080/"
        },
        "id": "O5AwqcPqYMaY",
        "outputId": "94435603-eebd-4263-82ef-cc1f96c62c45"
      },
      "execution_count": 27,
      "outputs": [
        {
          "output_type": "stream",
          "name": "stdout",
          "text": [
            "{'activation': 'relu', 'alpha': 0.08, 'batch_size': 'auto', 'beta_1': 0.9, 'beta_2': 0.999, 'early_stopping': True, 'epsilon': 1e-08, 'hidden_layer_sizes': (512, 256, 128), 'learning_rate': 'constant', 'learning_rate_init': 0.001, 'max_fun': 15000, 'max_iter': 200, 'momentum': 0.9, 'n_iter_no_change': 10, 'nesterovs_momentum': True, 'power_t': 0.5, 'random_state': None, 'shuffle': True, 'solver': 'adam', 'tol': 0.0001, 'validation_fraction': 0.1, 'verbose': False, 'warm_start': False}\n"
          ]
        }
      ]
    },
    {
      "cell_type": "code",
      "execution_count": null,
      "metadata": {
        "id": "pnUFq_UcCDNr"
      },
      "outputs": [],
      "source": [
        "########## Answer ############\n",
        "\n",
        "#The prediction of the MLP model with tuned hyperparameters was slightly worse \n",
        "# than that of the MLP model without tuned hyperparameters because the tuned model\n",
        "#contained the holdout set in its training data, which likely led to worse performance\n",
        "\n",
        "########## Answer ############"
      ]
    },
    {
      "cell_type": "markdown",
      "metadata": {
        "id": "7bJW0TEMCDNr"
      },
      "source": [
        "### 2.2 (5 points) Applying MLPs to classifying eluted ligands"
      ]
    },
    {
      "cell_type": "code",
      "execution_count": 28,
      "metadata": {
        "id": "t933G3HSCDNr",
        "colab": {
          "base_uri": "https://localhost:8080/",
          "height": 917
        },
        "outputId": "c313a4b3-0f2f-479c-99fd-69791c451c8c"
      },
      "outputs": [
        {
          "output_type": "display_data",
          "data": {
            "image/png": "[encoded data removed]",
            "text/plain": [
              "<Figure size 864x432 with 3 Axes>"
            ]
          },
          "metadata": {
            "needs_background": "light"
          }
        },
        {
          "output_type": "display_data",
          "data": {
            "image/png": "[encoded data removed]",
            "text/plain": [
              "<Figure size 864x432 with 3 Axes>"
            ]
          },
          "metadata": {
            "needs_background": "light"
          }
        }
      ],
      "source": [
        "########### Code #############\n",
        "from sklearn.metrics import ConfusionMatrixDisplay, RocCurveDisplay, roc_auc_score\n",
        "def plot_clf(model, X, y, title): \n",
        "    \n",
        "    '''\n",
        "        A function to plot confusion matrix and ROC curve \n",
        "        \n",
        "        Args: \n",
        "            model(classifier object): model object (e.g. RandomForestClassifier, LogisticRegression)\n",
        "            X(np.array): feature set\n",
        "            y(np.array): label set \n",
        "            title(str): plot name\n",
        "            \n",
        "        Example Usage: \n",
        "            plot_clf(model, X_test, y_test, \"test\")\n",
        "    '''\n",
        "    \n",
        "    fig, [ax_roc, ax_conf] = plt.subplots(1, 2, figsize=(12, 6))\n",
        "    fig.tight_layout()\n",
        "    \n",
        "    y_true = y\n",
        "    y_pred = model.predict(X)\n",
        "    \n",
        "    RocCurveDisplay.from_predictions(y_true, np.ravel(y_pred), ax=ax_roc)\n",
        "    \n",
        "    ConfusionMatrixDisplay.from_predictions(y_true, np.ravel(y_pred), ax=ax_conf)\n",
        "\n",
        "    ax_roc.set_title('{} ROC'.format(title))\n",
        "    ax_conf.set_title('{} Confusion Matrix'.format(title))\n",
        "\n",
        "    plt.show()\n",
        "\n",
        "\n",
        "el_df = pd.read_csv(\"el_train.csv\") # read data \n",
        "amino_acids = np.load('./amino_acids.npy')\n",
        "\n",
        "p2_2_y = el_df[['Eluted Ligand']].to_numpy()[:,0]\n",
        "aa_names_2 = el_df[['Peptide']].to_numpy()[:,0]\n",
        "\n",
        "\n",
        "lb = preprocessing.LabelBinarizer()\n",
        "lb.fit(amino_acids)\n",
        "\n",
        "aa_feature_vector = np.zeros((len(aa_names_2),20*9)) # feature encodings for all inputs\n",
        "each_residue = np.zeros((9,20)) # feature encoding for one input\n",
        "\n",
        "for i in range(0,len(aa_names_2)):\n",
        "   \n",
        "    if i != 0: # put in first input feature encoding into the whole set\n",
        "        aa_feature_vector[i-1,:] = each_residue.flatten()\n",
        "    \n",
        "    for j in range(0,9): #loop through all letters\n",
        "        each_residue[j,:] = lb.transform([aa_names_2[i][j]])[0] #one-hot encoding for a single letter\n",
        "                \n",
        "        if i == len(aa_names_2):\n",
        "            if j == 8:\n",
        "                aa_feature_vector[i,:] = each_residue.flatten()\n",
        "                \n",
        "p2_X_oneHot = aa_feature_vector\n",
        "\n",
        "X_train, X_test, y_train, y_test = train_test_split(p2_X_oneHot, p2_2_y, train_size = 0.8, test_size = 0.2)\n",
        "\n",
        "\n",
        "\n",
        "regf = MLPClassifier(**params).fit(X_train, np.ravel(y_train))\n",
        "\n",
        "plot_clf(regf, X_train, y_train, 'Training')\n",
        "plot_clf(regf, X_test, y_test, 'Testing')\n",
        "\n",
        "########### Code #############"
      ]
    },
    {
      "cell_type": "markdown",
      "metadata": {
        "id": "bk9VmwOwCDNr"
      },
      "source": [
        "## <center> Problem 3: Accelerating Neural Networks with GPUs </center>"
      ]
    },
    {
      "cell_type": "markdown",
      "metadata": {
        "id": "JyhcYX3NCDNr"
      },
      "source": [
        "### 3.1 (2 points) Request a GPU on Google Colab"
      ]
    },
    {
      "cell_type": "markdown",
      "metadata": {
        "id": "twAc-arkCDNr"
      },
      "source": [
        "Run this cell as-is, with no modifications, to show that you successfully requested a GPU."
      ]
    },
    {
      "cell_type": "code",
      "execution_count": 29,
      "metadata": {
        "id": "lRe1wQreCDNr"
      },
      "outputs": [],
      "source": [
        "# Check if your GPU is requested successfully or not \n",
        "assert torch.cuda.device_count() != 0"
      ]
    },
    {
      "cell_type": "markdown",
      "metadata": {
        "id": "b7B6KqRaCDNr"
      },
      "source": [
        "### 3.2 (10 points) Build Datasets and DataLoaders in PyTorch"
      ]
    },
    {
      "cell_type": "markdown",
      "metadata": {
        "id": "RqY0puIECDNs"
      },
      "source": [
        "Generate a validation set."
      ]
    },
    {
      "cell_type": "code",
      "execution_count": null,
      "metadata": {
        "id": "K6NgGWXwCDNs"
      },
      "outputs": [],
      "source": [
        "########### Code #############\n",
        "p2_X = np.vstack((p1_X_oneHot_holdout, X_train_oneHot))\n",
        "p2_y = np.vstack((p1_y_holdout, y_train_oneHot))\n",
        "p2_X_train, p2_X_validation, p2_y_train, p2_y_validation = train_test_split(p2_X, np.ravel(p2_y), train_size=0.9, test_size=0.1, random_state=42)\n",
        "\n",
        "p2_X_test = X_test_oneHot\n",
        "p2_y_test = y_test_oneHot\n",
        "\n",
        "########### Code #############"
      ]
    },
    {
      "cell_type": "markdown",
      "metadata": {
        "id": "-yJ87L24CDNs"
      },
      "source": [
        "A SequenceDataset class for you to construct your dataloaders."
      ]
    },
    {
      "cell_type": "code",
      "execution_count": null,
      "metadata": {
        "id": "Luodi_qiCDNs"
      },
      "outputs": [],
      "source": [
        "# Generate dataset\n",
        "class SequenceDataset(Dataset):\n",
        "    def __init__(self, X, y):\n",
        "        self.X = torch.Tensor(np.array(X))  # store X as a pytorch Tensor\n",
        "        self.y = torch.Tensor(np.array(y))  # store y as a pytorch Tensor\n",
        "        self.len=len(self.X)                # number of samples in the data \n",
        "\n",
        "    def __getitem__(self, index):\n",
        "        return self.X[index], self.y[index] # get the appropriate item\n",
        "\n",
        "    def __len__(self):\n",
        "        return self.len"
      ]
    },
    {
      "cell_type": "markdown",
      "metadata": {
        "id": "iRTZSN40CDNs"
      },
      "source": [
        "Fill in the skeleton code to construct your Datasets and DataLoaders."
      ]
    },
    {
      "cell_type": "code",
      "execution_count": null,
      "metadata": {
        "id": "jP8_4mA-CDNt"
      },
      "outputs": [],
      "source": [
        "########### Code #############\n",
        "\n",
        "train_data = SequenceDataset(p2_X_train, p2_y_train)# fill in arguments\n",
        "val_data = SequenceDataset(p2_X_validation, p2_y_validation)# fill in arguments\n",
        "test_data = SequenceDataset(p2_X_test,p2_y_test)# fill in arguments\n",
        "\n",
        "batch_size = 256 # fill in batch size\n",
        "train_dataloader = DataLoader(train_data, batch_size=batch_size, shuffle=True)# fill in shuffle argument\n",
        "val_dataloader = DataLoader(val_data, batch_size=batch_size, shuffle=True)# fill in shuffle argument\n",
        "test_dataloader = DataLoader(test_data, batch_size=batch_size, shuffle=True)# fill in shuffle argument\n",
        "\n",
        "\n",
        "########### Code #############"
      ]
    },
    {
      "cell_type": "markdown",
      "metadata": {
        "id": "RtDOpHmvCDNt"
      },
      "source": [
        "Run this cell to check that your DataLoaders work as expected."
      ]
    },
    {
      "cell_type": "code",
      "execution_count": null,
      "metadata": {
        "id": "Fb_dERVLCDNt",
        "colab": {
          "base_uri": "https://localhost:8080/"
        },
        "outputId": "f7e5077b-6744-40a5-e729-ba3e65924505"
      },
      "outputs": [
        {
          "output_type": "stream",
          "name": "stdout",
          "text": [
            "torch.Size([256, 180]) torch.Size([256])\n",
            "torch.Size([122, 180]) torch.Size([122])\n",
            "torch.Size([246, 180]) torch.Size([246, 1])\n"
          ]
        }
      ],
      "source": [
        "########### Code #############\n",
        "\n",
        "for loader in [train_dataloader, val_dataloader, test_dataloader]:\n",
        "    for index, batch in enumerate(loader): \n",
        "        # Your batch returns a X, y stacked in a batch \n",
        "        X_batch, y_batch = batch[0], batch[1]\n",
        "        if index == 0:\n",
        "            print(X_batch.shape, y_batch.shape)\n",
        "        \n",
        "########### Code #############"
      ]
    },
    {
      "cell_type": "markdown",
      "metadata": {
        "id": "ZWzok7h9CDNt"
      },
      "source": [
        "### 3.3 (15 points) Define the MLP in PyTorch"
      ]
    },
    {
      "cell_type": "markdown",
      "metadata": {
        "id": "9Kqpg_QMCDNt"
      },
      "source": [
        "Look at the following code snippet to understand how the linear layer works in PyTorch. Take careful note of the dimensions of the input and output."
      ]
    },
    {
      "cell_type": "code",
      "execution_count": 30,
      "metadata": {
        "id": "8UN_8-nUCDNt",
        "colab": {
          "base_uri": "https://localhost:8080/"
        },
        "outputId": "322f58fa-799c-4e8a-eeb2-e883d2c77838"
      },
      "outputs": [
        {
          "output_type": "stream",
          "name": "stdout",
          "text": [
            "tensor([[1., 1.],\n",
            "        [1., 1.],\n",
            "        [1., 1.],\n",
            "        [1., 1.]]) tensor([[-0.3280, -1.4505,  0.3549],\n",
            "        [-0.3280, -1.4505,  0.3549],\n",
            "        [-0.3280, -1.4505,  0.3549],\n",
            "        [-0.3280, -1.4505,  0.3549]], grad_fn=<AddmmBackward0>) torch.Size([4, 2]) torch.Size([4, 3])\n"
          ]
        }
      ],
      "source": [
        "linear = torch.nn.Linear(2, 3)\n",
        "\n",
        "input_tensor = torch.ones((4, 2))\n",
        "output_tensor = linear(input_tensor)\n",
        "\n",
        "print(input_tensor, output_tensor, input_tensor.shape, output_tensor.shape)"
      ]
    },
    {
      "cell_type": "markdown",
      "metadata": {
        "id": "wvyNMiLHCDNt"
      },
      "source": [
        "Look at the following code snippet to understand how the ReLU layer works in PyTorch (the Tanh layer is similar). Take careful note of the dimensions of the input and output."
      ]
    },
    {
      "cell_type": "code",
      "execution_count": 31,
      "metadata": {
        "id": "oEfDG4JZCDNt",
        "colab": {
          "base_uri": "https://localhost:8080/"
        },
        "outputId": "3825daca-bc8d-400f-f0ed-0fc8ee27fd7f"
      },
      "outputs": [
        {
          "output_type": "stream",
          "name": "stdout",
          "text": [
            "tensor([[1., 1.],\n",
            "        [1., 1.],\n",
            "        [1., 1.],\n",
            "        [1., 1.]]) tensor([[1., 1.],\n",
            "        [1., 1.],\n",
            "        [1., 1.],\n",
            "        [1., 1.]]) torch.Size([4, 2]) torch.Size([4, 2])\n"
          ]
        }
      ],
      "source": [
        "relu = torch.nn.ReLU()\n",
        "\n",
        "input_tensor = torch.ones((4, 2))\n",
        "output_tensor = relu(input_tensor)\n",
        "\n",
        "print(input_tensor, output_tensor, input_tensor.shape, output_tensor.shape)"
      ]
    },
    {
      "cell_type": "markdown",
      "metadata": {
        "id": "7MaHKO_jCDNu"
      },
      "source": [
        "Look at the following code snippet to understand how to stack layers with the Sequential module."
      ]
    },
    {
      "cell_type": "code",
      "execution_count": 32,
      "metadata": {
        "id": "izPS-L8aCDNu",
        "colab": {
          "base_uri": "https://localhost:8080/"
        },
        "outputId": "af395521-a004-4da2-ba68-8ee1354c607b"
      },
      "outputs": [
        {
          "output_type": "stream",
          "name": "stdout",
          "text": [
            "tensor([[1., 1.],\n",
            "        [1., 1.],\n",
            "        [1., 1.],\n",
            "        [1., 1.],\n",
            "        [1., 1.]]) tensor([[-0.1624,  0.4830,  0.3220, -0.3828],\n",
            "        [-0.1624,  0.4830,  0.3220, -0.3828],\n",
            "        [-0.1624,  0.4830,  0.3220, -0.3828],\n",
            "        [-0.1624,  0.4830,  0.3220, -0.3828],\n",
            "        [-0.1624,  0.4830,  0.3220, -0.3828]], grad_fn=<AddmmBackward0>) torch.Size([5, 2]) torch.Size([5, 4])\n"
          ]
        }
      ],
      "source": [
        "layer1 = torch.nn.Linear(2, 3)\n",
        "layer2 = torch.nn.Linear(3, 4)\n",
        "\n",
        "sequential = torch.nn.Sequential(layer1, layer2)\n",
        "\n",
        "input_tensor = torch.ones((5, 2))\n",
        "output_tensor = sequential(input_tensor)\n",
        "\n",
        "print(input_tensor, output_tensor, input_tensor.shape, output_tensor.shape)"
      ]
    },
    {
      "cell_type": "markdown",
      "metadata": {
        "id": "JxTd0eG_CDNu"
      },
      "source": [
        "Build your MLP within the following torch.nn.Module object. Remember to use your hyperparameters from part 2.1."
      ]
    },
    {
      "cell_type": "code",
      "execution_count": null,
      "metadata": {
        "id": "cC91XQ-MCDNu"
      },
      "outputs": [],
      "source": [
        "########### Code #############\n",
        "\n",
        "#Best parameter set: {'activation': 'relu', 'alpha': 0.64, 'hidden_layer_sizes': (512, 512, 256), 'solver': 'adam'} old\n",
        "\n",
        "#Best parameter set: {'activation': 'relu', 'alpha': 0.64, 'hidden_layer_sizes': (512, 256, 128), 'solver': 'adam'}\n",
        "\n",
        "class SequenceMLP(torch.nn.Module):\n",
        "    def __init__(self):\n",
        "        # You can modify this method to pass hyperparameters above, but this is not necessary\n",
        "        # since we already have fixed hyperparameters\n",
        "        super().__init__()\n",
        "        \n",
        "        # Implement your code here\n",
        "        relu = torch.nn.ReLU()\n",
        "        layer1 = torch.nn.Linear(180, 512)\n",
        "        layer2 = torch.nn.Linear(512, 256)\n",
        "        layer3 = torch.nn.Linear(256, 128)\n",
        "        layer4 = torch.nn.Linear(128, 1)\n",
        "\n",
        "        self.model = torch.nn.Sequential(layer1,relu,layer2,relu,layer3,relu,layer4)# fill in model here\n",
        "        \n",
        "    def forward(self, x):\n",
        "        x = self.model(x)\n",
        "        \n",
        "        return x\n",
        "\n",
        "########### Code #############"
      ]
    },
    {
      "cell_type": "markdown",
      "metadata": {
        "id": "Q_A5c4zDCDNu"
      },
      "source": [
        "### 3.4 (10 points) Implement functions for training and testing"
      ]
    },
    {
      "cell_type": "markdown",
      "metadata": {
        "id": "OMTNsnupCDNu"
      },
      "source": [
        "Define your model, device, and optimizer."
      ]
    },
    {
      "cell_type": "code",
      "execution_count": null,
      "metadata": {
        "id": "l9-VFlIuCDNu"
      },
      "outputs": [],
      "source": [
        "########### Code #############\n",
        "\n",
        "# device to train on\n",
        "device = 'cuda:0'\n",
        "# define your model\n",
        "model = SequenceMLP().to(device)\n",
        "\n",
        "# define your optimizer\n",
        "optimizer = torch.optim.Adam(model.parameters(), lr = 1e-3) # fill in optimizer here\n",
        "\n",
        "########### Code #############"
      ]
    },
    {
      "cell_type": "markdown",
      "metadata": {
        "id": "74CUvSxOCDNv"
      },
      "source": [
        "Implement your training and validation loops here."
      ]
    },
    {
      "cell_type": "code",
      "execution_count": null,
      "metadata": {
        "id": "BBiQkZp8CDNv"
      },
      "outputs": [],
      "source": [
        "########### Code #############\n",
        "\n",
        "def train(model, dataloader, optimizer, device):\n",
        "    \n",
        "    '''\n",
        "    A function train on the entire dataset for one epoch .\n",
        "    \n",
        "    Args: \n",
        "        model (torch.nn.Module): your model from before \n",
        "        dataloader (torch.utils.data.DataLoader): DataLoader object for the train data\n",
        "        optimizer (torch.optim.Optimizer(()): optimizer object to interface gradient calculation and optimization \n",
        "        device (str): Your device (usually 'cuda:0' for your GPU)\n",
        "        \n",
        "    Returns: \n",
        "        float: loss averaged over all the batches \n",
        "    \n",
        "    '''\n",
        "\n",
        "    epoch_loss = []\n",
        "    model.train() # Set model to training mode \n",
        "    \n",
        "    for batch in dataloader:    \n",
        "        X, y = batch\n",
        "        X = X.to(device)\n",
        "        y = y.to(device)\n",
        "        \n",
        "        # train your model on each batch here \n",
        "        y_pred = model(X)\n",
        "\n",
        "        loss = torch.nn.functional.mse_loss(y_pred.squeeze(),y.squeeze())# fill in loss here\n",
        "\n",
        "        epoch_loss.append(loss.item())\n",
        "        \n",
        "        # run backpropagation given the loss you defined\n",
        "        optimizer.zero_grad()\n",
        "        loss.backward()\n",
        "        optimizer.step()\n",
        "\n",
        "    return np.array(epoch_loss).mean()\n",
        "\n",
        "\n",
        "def validate(model, dataloader, device):\n",
        "    \n",
        "    '''\n",
        "    A function validate on the validation dataset for one epoch .\n",
        "    \n",
        "    Args: \n",
        "        model (torch.nn.Module): your model for before \n",
        "        dataloader (torch.utils.data.DataLoader): DataLoader object for the validation data\n",
        "        device (str): Your device (usually 'cuda:0' for your GPU)\n",
        "        \n",
        "    Returns: \n",
        "        float: loss averaged over all the batches \n",
        "    \n",
        "    '''\n",
        "    \n",
        "    val_loss = []\n",
        "    model.eval() # Set model to evaluation mode \n",
        "    with torch.no_grad():    \n",
        "        for batch in dataloader:\n",
        "            X, y = batch\n",
        "            X = X.to(device)\n",
        "            y = y.to(device)\n",
        "            \n",
        "            # validate your model on each batch here \n",
        "            y_pred = model(X)\n",
        "            loss = torch.nn.functional.mse_loss(y_pred.squeeze(),y.squeeze())# fill in loss here\n",
        "            val_loss.append(loss.item())\n",
        "            \n",
        "    return np.array(val_loss).mean()\n",
        "\n",
        "########### Code #############"
      ]
    },
    {
      "cell_type": "markdown",
      "metadata": {
        "id": "vc7I6kCUCDNv"
      },
      "source": [
        "Train and validate your model."
      ]
    },
    {
      "cell_type": "code",
      "execution_count": null,
      "metadata": {
        "id": "JFO9dTxlCDNv",
        "colab": {
          "base_uri": "https://localhost:8080/"
        },
        "outputId": "c018ff5a-94b2-40b7-ad73-a098670290d4"
      },
      "outputs": [
        {
          "output_type": "stream",
          "name": "stdout",
          "text": [
            "epoch train loss validation loss\n",
            "0 0.08970125019550323 0.08565488457679749\n",
            "1 0.07205364778637886 0.07590970396995544\n",
            "2 0.05326615124940872 0.0600266270339489\n",
            "3 0.03364075012505054 0.05135389789938927\n",
            "4 0.022239026427268983 0.05320054665207863\n",
            "5 0.01615854036062956 0.04492078348994255\n",
            "6 0.012009183689951897 0.04723786190152168\n",
            "7 0.009105486422777176 0.04387941211462021\n",
            "8 0.0066454485058784485 0.04055255278944969\n",
            "9 0.0049761326517909765 0.0440690852701664\n",
            "10 0.003932730620726943 0.041868727654218674\n",
            "11 0.0028434575302526354 0.04062870144844055\n",
            "12 0.00236862872261554 0.04313051700592041\n",
            "13 0.002112302207387984 0.04116380214691162\n",
            "14 0.001864997239317745 0.04113493487238884\n",
            "15 0.0014354680781252683 0.04294554516673088\n",
            "16 0.0012378831044770778 0.042724113911390305\n",
            "17 0.0011367291095666586 0.04268117621541023\n",
            "18 0.0011526557384058834 0.04292570427060127\n",
            "19 0.0009379988769069314 0.043114129453897476\n",
            "20 0.001014195627067238 0.042626552283763885\n",
            "21 0.0008877915213815867 0.0422859862446785\n",
            "22 0.0008326408104039728 0.0421983040869236\n",
            "23 0.0007587523432448506 0.042532309889793396\n",
            "24 0.0006074476725189016 0.04283030703663826\n",
            "25 0.0005405548145063221 0.043043289333581924\n",
            "26 0.0006076092569855974 0.042912114411592484\n",
            "27 0.00048802896053530277 0.04332704842090607\n",
            "28 0.00042567519703879954 0.0436273068189621\n",
            "29 0.00033798387448769063 0.04399482533335686\n",
            "30 0.00040875747217796745 0.04360372573137283\n",
            "31 0.0002614604163682088 0.04364226013422012\n",
            "32 0.00025088220718316734 0.04359947144985199\n",
            "33 0.0002489881182555109 0.04334570840001106\n",
            "34 0.00017190266225952655 0.04351209104061127\n",
            "35 0.00016658597742207347 0.04400773346424103\n",
            "36 0.00014799443451920524 0.044004328548908234\n",
            "37 0.00014649682852905244 0.04393136501312256\n",
            "38 0.00013043543585808948 0.043635427951812744\n",
            "39 0.00011029863962903619 0.043594226241111755\n",
            "40 0.0001079891502740793 0.0437786728143692\n",
            "41 9.703484247438609e-05 0.043342798948287964\n",
            "42 9.475057013332843e-05 0.043481629341840744\n",
            "43 0.0001114421771490015 0.043834440410137177\n",
            "44 7.500859355786815e-05 0.04360353574156761\n",
            "45 0.00010075011814478785 0.043653301894664764\n",
            "46 8.621911983937025e-05 0.04384388402104378\n",
            "47 7.012836867943406e-05 0.0437471866607666\n",
            "48 6.370137925841846e-05 0.043669939041137695\n",
            "49 6.550638281623832e-05 0.04377396032214165\n",
            "50 5.739224434364587e-05 0.04377247765660286\n",
            "51 5.4987194016575816e-05 0.04367605224251747\n",
            "52 5.62399705813732e-05 0.04362712800502777\n",
            "53 4.866291637881659e-05 0.0437113456428051\n",
            "54 4.4265809992793945e-05 0.043465886265039444\n",
            "55 4.57767877378501e-05 0.04325418919324875\n",
            "56 4.291389268473722e-05 0.04350079223513603\n",
            "57 4.591067845467478e-05 0.04365159571170807\n",
            "58 4.197787238808814e-05 0.043453119695186615\n",
            "59 3.3619493842707014e-05 0.043422047048807144\n",
            "60 3.149557905999245e-05 0.04346008598804474\n",
            "61 3.383129333087709e-05 0.04363013803958893\n",
            "62 4.5136656262911855e-05 0.043703749775886536\n",
            "63 3.005525650223717e-05 0.04368520528078079\n",
            "64 2.810949554259423e-05 0.04358644783496857\n",
            "65 2.4152084915840532e-05 0.043729186058044434\n",
            "66 2.3471208623959684e-05 0.04356330260634422\n",
            "67 2.0392083024489692e-05 0.0432748980820179\n",
            "68 2.271505945827812e-05 0.04369233921170235\n",
            "69 2.04680094611831e-05 0.04402795806527138\n",
            "70 2.5232920233975164e-05 0.0439617820084095\n",
            "71 2.3163424702943303e-05 0.04356260970234871\n",
            "72 2.151285625586752e-05 0.04346697777509689\n",
            "73 2.3216694717120846e-05 0.043466273695230484\n",
            "74 2.625723682285752e-05 0.04364168271422386\n",
            "75 2.504666190361604e-05 0.04333200305700302\n",
            "76 2.6995425650966352e-05 0.04410729557275772\n",
            "77 3.191079777025152e-05 0.04374392703175545\n",
            "78 3.747875525732525e-05 0.04296749085187912\n",
            "79 4.451836066436954e-05 0.043216682970523834\n",
            "80 3.978297281719279e-05 0.04403412714600563\n",
            "81 4.952877206960693e-05 0.0438360869884491\n",
            "82 4.7508188436040656e-05 0.04358256235718727\n",
            "83 5.2126977243460716e-05 0.043360576033592224\n",
            "84 4.884733862127177e-05 0.04331044852733612\n",
            "85 5.745627931901254e-05 0.04390228912234306\n",
            "86 7.643768694833852e-05 0.0436253696680069\n",
            "87 7.94693005445879e-05 0.04292989894747734\n",
            "88 9.222634689649567e-05 0.04382123798131943\n",
            "89 7.973675092216581e-05 0.04324064031243324\n",
            "90 8.54740479553584e-05 0.0429173968732357\n",
            "91 9.065892809303477e-05 0.042322710156440735\n",
            "92 0.00011008081200998276 0.04275403916835785\n",
            "93 0.00012517506256699563 0.04407184571027756\n",
            "94 0.00010856123626581393 0.0442909374833107\n",
            "95 0.00014215646369848401 0.04354138299822807\n",
            "96 0.00014807455154368653 0.04289701208472252\n",
            "97 0.00011572548828553408 0.04237005114555359\n",
            "98 0.0001263064274098724 0.04239499196410179\n",
            "99 0.00019163274264428766 0.04420461878180504\n",
            "100 0.00026302384794689714 0.043204132467508316\n",
            "101 0.00023829927959013731 0.042285993695259094\n",
            "102 0.00020959578978363425 0.04244353994727135\n",
            "103 0.0001833132831961848 0.04146893322467804\n",
            "104 0.0002188908401876688 0.041129376739263535\n",
            "105 0.0003294459340395406 0.04299987107515335\n",
            "106 0.0003306264290586114 0.043818384408950806\n",
            "107 0.0003465433430392295 0.042886458337306976\n",
            "108 0.0003929476690245792 0.04302752763032913\n",
            "109 0.00026048072322737426 0.04133174195885658\n",
            "110 0.0003008467727340758 0.042576562613248825\n",
            "111 0.0002603813918540254 0.042104847729206085\n",
            "112 0.0001848814863478765 0.04076734557747841\n",
            "113 0.00022238347446545959 0.04048703610897064\n",
            "114 0.00016823165642563254 0.04045664146542549\n",
            "115 0.00022708954202244058 0.04158579558134079\n",
            "116 0.00020309790561441333 0.04276850074529648\n",
            "117 0.00019956389587605372 0.04325644299387932\n",
            "118 0.00026142711285501716 0.04265299066901207\n",
            "119 0.00024263825907837598 0.04188225418329239\n",
            "120 0.00024335531634278595 0.041982702910900116\n",
            "121 0.0002543770067859441 0.04204241931438446\n",
            "122 0.00028457116277422754 0.041417744010686874\n",
            "123 0.00019285675807623193 0.041858818382024765\n",
            "124 0.0001809912733733654 0.041511815041303635\n",
            "125 0.00014128011534921824 0.040799982845783234\n",
            "126 9.424576855963097e-05 0.040678929537534714\n",
            "127 8.385566907236353e-05 0.04084473475813866\n",
            "128 5.640183371724561e-05 0.041176337748765945\n",
            "129 5.622746612061746e-05 0.04108274355530739\n",
            "130 5.384787218645215e-05 0.041108887642621994\n",
            "131 3.335258807055652e-05 0.0411495715379715\n",
            "132 2.6944595811073667e-05 0.04115431755781174\n",
            "133 2.2196014833752996e-05 0.0411611869931221\n",
            "134 1.641340750211384e-05 0.04112068936228752\n",
            "135 1.5500661356782074e-05 0.04117733612656593\n",
            "136 1.4883070252835751e-05 0.04131234437227249\n",
            "137 1.2497034367697779e-05 0.041373711079359055\n",
            "138 1.0774671500257682e-05 0.04127497971057892\n",
            "139 9.799973213375779e-06 0.04100067541003227\n",
            "140 7.836012628104072e-06 0.04096069931983948\n",
            "141 6.504817201857805e-06 0.041069138795137405\n",
            "142 6.011466302879853e-06 0.041079550981521606\n",
            "143 4.870692669101117e-06 0.04094712808728218\n",
            "144 4.676845082940417e-06 0.04094934090971947\n",
            "145 4.191798984720662e-06 0.04107905551791191\n",
            "146 1.0801780467772914e-05 0.0410928875207901\n",
            "147 4.3922532995566145e-06 0.04101290926337242\n",
            "148 1.0780942420751672e-05 0.04104869067668915\n",
            "149 4.16734330883628e-06 0.04103759676218033\n",
            "150 3.8503357018271345e-06 0.041126541793346405\n",
            "151 3.5754819009525816e-06 0.04117291793227196\n",
            "152 3.670177056847024e-06 0.04117497801780701\n",
            "153 9.981024140870431e-06 0.04107654094696045\n",
            "154 3.2693092407498624e-06 0.041130393743515015\n",
            "155 3.173488221364096e-06 0.04115700721740723\n",
            "156 2.9441785500239346e-06 0.04114091768860817\n",
            "157 2.8416343070603033e-06 0.04109898954629898\n",
            "158 2.9697521995331046e-06 0.04109158739447594\n",
            "159 2.5702720222398057e-06 0.041103869676589966\n",
            "160 2.6490402888157406e-06 0.041049275547266006\n",
            "161 2.676537462775741e-06 0.04107601195573807\n",
            "162 2.8837853506047394e-06 0.04103904962539673\n",
            "163 3.940893839171622e-06 0.04123271629214287\n",
            "164 5.912842084399017e-06 0.041467517614364624\n",
            "165 1.0564063541096402e-05 0.04129927605390549\n",
            "166 8.589574372308562e-06 0.04113209247589111\n",
            "167 6.775518795620883e-06 0.04102558270096779\n",
            "168 7.261338305397658e-06 0.040805067867040634\n",
            "169 1.3293660549607011e-05 0.04108039289712906\n",
            "170 8.291968606499723e-06 0.0414012148976326\n",
            "171 8.839450947562e-06 0.041335321962833405\n",
            "172 9.162453261524206e-06 0.041007593274116516\n",
            "173 9.178969503409461e-06 0.040871262550354004\n",
            "174 8.850255471770652e-06 0.04123391956090927\n",
            "175 8.197991610359167e-06 0.041303835809230804\n",
            "176 8.804729895928176e-06 0.04116452485322952\n",
            "177 9.515045439911773e-06 0.04091877117753029\n",
            "178 1.2175185929663712e-05 0.04104352369904518\n",
            "179 1.1512010132719297e-05 0.04124609753489494\n",
            "180 1.1071822154917754e-05 0.041442833840847015\n",
            "181 1.3189768469601405e-05 0.04095933213829994\n",
            "182 1.5643570259271654e-05 0.04091564938426018\n",
            "183 1.40964972160873e-05 0.041142553091049194\n",
            "184 1.1845369044749532e-05 0.04110323265194893\n",
            "185 9.37934801186202e-06 0.04122878611087799\n",
            "186 8.354374040209223e-06 0.041264478117227554\n",
            "187 9.781832432054216e-06 0.04125315696001053\n",
            "188 6.0467517869255975e-06 0.04120423272252083\n",
            "189 4.632332684195717e-06 0.04128287732601166\n",
            "190 4.419493643581518e-06 0.041094645857810974\n",
            "191 4.104648587599513e-06 0.04127480089664459\n",
            "192 5.278915705275722e-06 0.041445400565862656\n",
            "193 4.7646734856243714e-06 0.041402868926525116\n",
            "194 5.042979182690033e-06 0.04127947613596916\n",
            "195 5.036798711444135e-06 0.04126928746700287\n",
            "196 4.742112923850072e-06 0.04146633669734001\n",
            "197 5.541427799471421e-06 0.04128529131412506\n",
            "198 4.549011009657988e-06 0.041148580610752106\n",
            "199 4.532062712314655e-06 0.04145480692386627\n",
            "200 3.6689615626528393e-06 0.041394636034965515\n",
            "201 3.0781682198721683e-06 0.041543517261743546\n",
            "202 5.50075460523658e-06 0.04134487733244896\n",
            "203 1.0027758298747358e-05 0.04127820208668709\n",
            "204 5.9802865052915875e-06 0.04154520109295845\n",
            "205 1.2281976250960724e-05 0.04134218394756317\n",
            "206 8.107457142614294e-06 0.0414537638425827\n",
            "207 9.030549972521839e-06 0.04128715768456459\n",
            "208 8.134106519719352e-06 0.0414329394698143\n",
            "209 8.167311443685321e-06 0.041624244302511215\n",
            "210 8.12692796898773e-06 0.04189102351665497\n",
            "211 1.0514449422771577e-05 0.04160827398300171\n",
            "212 1.0667396236385684e-05 0.041339606046676636\n",
            "213 1.313504017161904e-05 0.041607294231653214\n",
            "214 1.0690684030123521e-05 0.041624654084444046\n",
            "215 1.0282365656166803e-05 0.04156217351555824\n",
            "216 9.881450387183576e-06 0.04144658148288727\n",
            "217 8.494234043610049e-06 0.041607946157455444\n",
            "218 1.1126031313324348e-05 0.041512712836265564\n",
            "219 9.822312404139665e-06 0.04125431925058365\n",
            "220 1.1455542153271381e-05 0.04195403680205345\n",
            "221 1.727988274069503e-05 0.041052669286727905\n",
            "222 2.3689722183917183e-05 0.04142829030752182\n",
            "223 2.9916895437054335e-05 0.04163486883044243\n",
            "224 2.8318223485257477e-05 0.04125473275780678\n",
            "225 3.608884653658606e-05 0.04147573187947273\n",
            "226 3.980453038820997e-05 0.041983116418123245\n",
            "227 4.5490742195397615e-05 0.041510336101055145\n",
            "228 5.144308161106892e-05 0.04127097129821777\n",
            "229 7.307084160856903e-05 0.04255451634526253\n",
            "230 0.00016285885358229278 0.041459184139966965\n",
            "231 0.0002021960783167742 0.040764644742012024\n",
            "232 0.00024403872375842184 0.04093543440103531\n",
            "233 0.0002941064070910215 0.04236788675189018\n",
            "234 0.0002549270720919594 0.04134056717157364\n",
            "235 0.0002459154202369973 0.041955579072237015\n",
            "236 0.000223816474317573 0.040097884833812714\n",
            "237 0.0004207503196084872 0.04216578230261803\n",
            "238 0.0005126023723278194 0.042329106479883194\n",
            "239 0.0005929134378675372 0.04175065457820892\n",
            "240 0.0005330433894414454 0.0421450138092041\n",
            "241 0.00040662850951775906 0.04035463184118271\n",
            "242 0.00038779731257818637 0.040361758321523666\n",
            "243 0.0003712863777764142 0.041548483073711395\n",
            "244 0.000326367310481146 0.04255535453557968\n",
            "245 0.0002326888032257557 0.04193825647234917\n",
            "246 0.0002471849031280726 0.040807947516441345\n",
            "247 0.0001877970600617118 0.039783984422683716\n",
            "248 0.00016654697246849538 0.04048389568924904\n",
            "249 0.0001256725488929078 0.04109596461057663\n",
            "250 0.00010281916911480948 0.041014164686203\n",
            "251 0.00010454584407852963 0.040918707847595215\n",
            "252 8.556916582165286e-05 0.04124632105231285\n",
            "253 0.0001325424571405165 0.040983621031045914\n",
            "254 7.858646640670485e-05 0.04118986055254936\n",
            "255 7.937435366329737e-05 0.041042521595954895\n",
            "256 5.927569873165339e-05 0.04086967930197716\n",
            "257 6.581644629477523e-05 0.04047325626015663\n",
            "258 6.404222440323793e-05 0.04068057984113693\n",
            "259 4.786036479345057e-05 0.041095513850450516\n",
            "260 5.3177605150267485e-05 0.04137112945318222\n",
            "261 6.210238134372049e-05 0.04068558290600777\n",
            "262 5.107649412821047e-05 0.04045989736914635\n",
            "263 6.339360552374274e-05 0.040837619453668594\n",
            "264 4.3303003621986136e-05 0.04103010147809982\n",
            "265 4.079099016962573e-05 0.04076359048485756\n",
            "266 4.7886611719150095e-05 0.04108184203505516\n",
            "267 4.150922723056283e-05 0.04126167669892311\n",
            "268 3.65815849363571e-05 0.0407821461558342\n",
            "269 4.61376243038103e-05 0.040463827550411224\n",
            "270 3.059414266317617e-05 0.04023723676800728\n",
            "271 3.542028025549371e-05 0.040865860879421234\n",
            "272 3.854536844301037e-05 0.04137727618217468\n",
            "273 5.135100000188686e-05 0.04105202853679657\n",
            "274 4.920610990666319e-05 0.04063371196389198\n",
            "275 4.902595246676355e-05 0.03998030722141266\n",
            "276 5.743953079218045e-05 0.040470190346241\n",
            "277 3.3965911279665305e-05 0.04008473455905914\n",
            "278 3.946255092159845e-05 0.04025799036026001\n",
            "279 3.7692033583880405e-05 0.04144655540585518\n",
            "280 3.584229798434535e-05 0.04188826307654381\n",
            "281 6.003009293635842e-05 0.04139391705393791\n",
            "282 6.553725834237411e-05 0.03995562717318535\n",
            "283 7.777837308822199e-05 0.03983660042285919\n",
            "284 8.883576301741414e-05 0.04041128605604172\n",
            "285 0.00010513337329030037 0.03965575993061066\n",
            "286 9.678249480202795e-05 0.040911201387643814\n",
            "287 0.00011134834785480053 0.04157781973481178\n",
            "288 0.00010195640352321789 0.04102480784058571\n",
            "289 9.299206503783352e-05 0.04071484133601189\n",
            "290 7.39459901524242e-05 0.04060161113739014\n",
            "291 5.791010989923962e-05 0.040832798928022385\n",
            "292 5.4897817608434704e-05 0.04063325375318527\n",
            "293 5.426331408671103e-05 0.0405258871614933\n",
            "294 4.538715620583389e-05 0.04077887535095215\n",
            "295 4.070148243044969e-05 0.04117303341627121\n",
            "296 3.131349949399009e-05 0.040960993617773056\n",
            "297 2.5754457237781025e-05 0.0411250926554203\n",
            "298 2.9247611382743344e-05 0.041077870875597\n",
            "299 2.593471981526818e-05 0.04044945165514946\n",
            "300 3.095973079325631e-05 0.04020557925105095\n",
            "301 2.1996721079631244e-05 0.04045075923204422\n",
            "302 2.2220990649657325e-05 0.04074246436357498\n",
            "303 1.5121678552532103e-05 0.04067125916481018\n",
            "304 1.44170433486579e-05 0.040613822638988495\n",
            "305 1.580860589456279e-05 0.04052465036511421\n",
            "306 9.483026860834799e-06 0.04032284766435623\n",
            "307 1.115294926421484e-05 0.040436502546072006\n",
            "308 8.466380677418783e-06 0.04064730554819107\n",
            "309 8.284623072540854e-06 0.04054219648241997\n",
            "310 8.845565389492549e-06 0.040417276322841644\n",
            "311 9.705984484753572e-06 0.04053881764411926\n",
            "312 1.072389422915876e-05 0.04079309105873108\n",
            "313 1.1238908336963505e-05 0.040773920714855194\n",
            "314 8.685193824931048e-06 0.040552254766225815\n",
            "315 8.997276381705888e-06 0.040407340973615646\n",
            "316 1.3428485726763028e-05 0.040896106511354446\n",
            "317 1.574895159137668e-05 0.04062472656369209\n",
            "318 1.1111908315797337e-05 0.04072190821170807\n",
            "319 8.210281521314755e-06 0.04083896800875664\n",
            "320 1.017105068967794e-05 0.0408191904425621\n",
            "321 8.216531432481133e-06 0.04044618457555771\n",
            "322 1.0304075294698123e-05 0.040665607899427414\n",
            "323 6.418089287762996e-06 0.04050502926111221\n",
            "324 5.435481944005005e-06 0.040621448308229446\n",
            "325 4.870359589403961e-06 0.040716152638196945\n",
            "326 3.920734798157355e-06 0.04056057333946228\n",
            "327 4.559185572361457e-06 0.04055503383278847\n",
            "328 4.240370753905154e-06 0.040396276861429214\n",
            "329 5.8416409956407735e-06 0.04067766293883324\n",
            "330 6.2138386510923734e-06 0.04075940325856209\n",
            "331 8.35316991469881e-06 0.040531039237976074\n",
            "332 7.1180673330673015e-06 0.04047780483961105\n",
            "333 1.4642842688772362e-05 0.040662575513124466\n",
            "334 1.2014812818961218e-05 0.04079033061861992\n",
            "335 1.3750124526268338e-05 0.04084205627441406\n",
            "336 1.242592898051953e-05 0.040635522454977036\n",
            "337 9.829218288359699e-06 0.04042161628603935\n",
            "338 8.981953124020947e-06 0.040686387568712234\n",
            "339 7.798841306794201e-06 0.04072289913892746\n",
            "340 5.331545435183216e-06 0.04071243107318878\n",
            "341 8.741004785406404e-06 0.04029373079538345\n",
            "342 1.6171073730220088e-05 0.0405040867626667\n",
            "343 1.2657323168241419e-05 0.041184406727552414\n",
            "344 1.8296990856470074e-05 0.0407063253223896\n",
            "345 1.7378571101289708e-05 0.04038844257593155\n",
            "346 2.0400685752974822e-05 0.04061184450984001\n",
            "347 2.0989650147384963e-05 0.04057881608605385\n",
            "348 1.94546486454783e-05 0.04027661681175232\n",
            "349 2.612067219160963e-05 0.040485676378011703\n",
            "350 1.6223495003941933e-05 0.04059022292494774\n",
            "351 2.0681559180957266e-05 0.040417078882455826\n",
            "352 2.1015482707298362e-05 0.04061798378825188\n",
            "353 1.8800459292833695e-05 0.04058201238512993\n",
            "354 2.034807748714229e-05 0.04081326723098755\n",
            "355 2.8857853249064646e-05 0.04046235233545303\n",
            "356 3.56015774741536e-05 0.040741268545389175\n",
            "357 2.713405519898515e-05 0.041080672293901443\n",
            "358 3.909351726179011e-05 0.04050091281533241\n",
            "359 4.781012030434795e-05 0.04024311155080795\n",
            "360 5.876081922906451e-05 0.04080460965633392\n",
            "361 8.261901530204341e-05 0.04058235511183739\n",
            "362 7.102882300387136e-05 0.0405646376311779\n",
            "363 0.0001067432705895044 0.04078562185168266\n",
            "364 0.00010354337719036266 0.04035999998450279\n",
            "365 0.00010365956477471627 0.040637724101543427\n",
            "366 8.018522785278038e-05 0.04074929654598236\n",
            "367 6.936782374395989e-05 0.04070842266082764\n",
            "368 6.313957637757995e-05 0.04054116830229759\n",
            "369 5.559372511925176e-05 0.040649935603141785\n",
            "370 5.9752674860646946e-05 0.04024975374341011\n",
            "371 6.180934215080925e-05 0.040118034929037094\n",
            "372 3.721168395713903e-05 0.04059780016541481\n",
            "373 6.982776903896593e-05 0.04134903475642204\n",
            "374 8.129687848850154e-05 0.040139224380254745\n",
            "375 6.347799935610965e-05 0.04041972756385803\n",
            "376 8.321396744577214e-05 0.04105912148952484\n",
            "377 7.265630047186278e-05 0.04021773487329483\n",
            "378 6.678870631731116e-05 0.0404382050037384\n",
            "379 4.935181423206814e-05 0.04031741991639137\n",
            "380 5.729162076022476e-05 0.040586765855550766\n",
            "381 6.661285005975515e-05 0.04010147228837013\n",
            "382 5.4349710990209135e-05 0.04013650864362717\n",
            "383 8.332846336998046e-05 0.041530780494213104\n",
            "384 9.016408657771535e-05 0.04010184481739998\n",
            "385 9.562725244904868e-05 0.04048917070031166\n",
            "386 0.00010336682171327994 0.04156346246600151\n",
            "387 0.00010394877899670974 0.04022635519504547\n",
            "388 0.0001049946979037486 0.039127230644226074\n",
            "389 0.00014383701200131326 0.0416732057929039\n",
            "390 0.00013095667964080349 0.04119032621383667\n",
            "391 0.00014160366408759727 0.04163403436541557\n",
            "392 0.00014712450793012976 0.040416084229946136\n",
            "393 0.00011623549726209603 0.039280522614717484\n",
            "394 0.0001593038672581315 0.04100111499428749\n",
            "395 0.0001773969765054062 0.04005437344312668\n",
            "396 0.00015080489829415454 0.039129965007305145\n",
            "397 0.00019706518214661627 0.04058435931801796\n",
            "398 0.0001778583988198079 0.041377902030944824\n",
            "399 0.00022332037333399056 0.03981157764792442\n"
          ]
        }
      ],
      "source": [
        "print(\"epoch\", \"train loss\", \"validation loss\")\n",
        "\n",
        "val_loss_curve = []\n",
        "train_loss_curve = []\n",
        "\n",
        "for epoch in range(400):\n",
        "    \n",
        "    # Compute train your model on training data\n",
        "    epoch_loss = train(model, train_dataloader, optimizer,  device=device)\n",
        "    \n",
        "    # Validate your on validation data \n",
        "    val_loss = validate(model, val_dataloader, device=device) \n",
        "    \n",
        "    # Record train and loss performance \n",
        "    train_loss_curve.append(epoch_loss)\n",
        "    val_loss_curve.append(val_loss)\n",
        "    \n",
        "    print(epoch, epoch_loss, val_loss)"
      ]
    },
    {
      "cell_type": "markdown",
      "metadata": {
        "id": "5jvMSzMZCDNv"
      },
      "source": [
        "Plot your train and validation loss curves."
      ]
    },
    {
      "cell_type": "code",
      "execution_count": null,
      "metadata": {
        "id": "q1Byc7-2CDNv",
        "colab": {
          "base_uri": "https://localhost:8080/",
          "height": 286
        },
        "outputId": "b3725afd-3f0d-4e4a-88d3-7cb8e6ce38c3"
      },
      "outputs": [
        {
          "output_type": "execute_result",
          "data": {
            "text/plain": [
              "[<matplotlib.lines.Line2D at 0x7f9297714b50>]"
            ]
          },
          "metadata": {},
          "execution_count": 21
        },
        {
          "output_type": "display_data",
          "data": {
            "image/png": "[encoded data removed]",
            "text/plain": [
              "<Figure size 432x288 with 1 Axes>"
            ]
          },
          "metadata": {
            "needs_background": "light"
          }
        }
      ],
      "source": [
        "plt.plot(val_loss_curve)\n",
        "plt.plot(train_loss_curve) #training should go close to zero by end of training"
      ]
    },
    {
      "cell_type": "markdown",
      "metadata": {
        "id": "tx4L_uT9CDNw"
      },
      "source": [
        "Compute your R^2 on the test set."
      ]
    },
    {
      "cell_type": "code",
      "execution_count": null,
      "metadata": {
        "id": "LJqtj4zhCDNw",
        "colab": {
          "base_uri": "https://localhost:8080/"
        },
        "outputId": "d85ff4b9-8723-4954-aa32-8ef36f458d63"
      },
      "outputs": [
        {
          "output_type": "stream",
          "name": "stdout",
          "text": [
            "0.49385333003740095\n"
          ]
        }
      ],
      "source": [
        "########### Code #############\n",
        "\n",
        "from sklearn.metrics import r2_score\n",
        "\n",
        "# code to compute r^2 goes here\n",
        "model.eval()\n",
        "# for batch in test_dataloader:    \n",
        "#         X, y = batch\n",
        "#         X = X.to(device)\n",
        "#         y = y.to(device)\n",
        "\n",
        "x,y = next(iter(test_dataloader))\n",
        "x,y = x.to(device), y.to(device)\n",
        "\n",
        "# print(shape(y))\n",
        "# print(shape(y_pred))\n",
        "y_pred = model(x)\n",
        "\n",
        "y_pred_np = y_pred.cpu().detach().numpy()\n",
        "\n",
        "score = r2_score(y_pred_np, y.cpu().detach().numpy())\n",
        "\n",
        "print(score)\n",
        "\n",
        "#model(test_data)\n",
        "########### Code #############"
      ]
    },
    {
      "cell_type": "code",
      "source": [
        ""
      ],
      "metadata": {
        "id": "2sPhLOnZMrso"
      },
      "execution_count": null,
      "outputs": []
    }
  ],
  "metadata": {
    "kernelspec": {
      "display_name": "Python 3 (ipykernel)",
      "language": "python",
      "name": "python3"
    },
    "language_info": {
      "codemirror_mode": {
        "name": "ipython",
        "version": 3
      },
      "file_extension": ".py",
      "mimetype": "text/x-python",
      "name": "python",
      "nbconvert_exporter": "python",
      "pygments_lexer": "ipython3",
      "version": "3.8.12"
    },
    "colab": {
      "name": "Copy of pset2_template.ipynb",
      "provenance": [],
      "collapsed_sections": [
        "JyhcYX3NCDNr"
      ]
    },
    "accelerator": "GPU"
  },
  "nbformat": 4,
  "nbformat_minor": 0
}